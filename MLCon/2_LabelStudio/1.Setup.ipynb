{
 "cells": [
  {
   "cell_type": "code",
   "execution_count": 1,
   "id": "a1a945b4",
   "metadata": {},
   "outputs": [
    {
     "data": {
      "text/plain": [
       "True"
      ]
     },
     "execution_count": 1,
     "metadata": {},
     "output_type": "execute_result"
    }
   ],
   "source": [
    "from dotenv import load_dotenv\n",
    "load_dotenv(\"../.env\")"
   ]
  },
  {
   "cell_type": "code",
   "execution_count": 2,
   "id": "bf244a67",
   "metadata": {},
   "outputs": [],
   "source": [
    "import fiftyone as fo\n",
    "import fiftyone.zoo as foz\n",
    "import fiftyone.brain as fob"
   ]
  },
  {
   "cell_type": "code",
   "execution_count": 3,
   "id": "1ebf0263",
   "metadata": {},
   "outputs": [
    {
     "data": {
      "text/plain": [
       "{\n",
       "    \"allow_legacy_orchestrators\": false,\n",
       "    \"batcher_static_size\": 100,\n",
       "    \"batcher_target_latency\": 0.2,\n",
       "    \"batcher_target_size_bytes\": 1048576,\n",
       "    \"database_admin\": true,\n",
       "    \"database_compressor\": null,\n",
       "    \"database_dir\": \"/Users/saumyagoyal/JupyterNotebook/MLCon/MLCon_25S/AIOpsKit/MLCon/1_FiftyOne/fiftyone_root/database\",\n",
       "    \"database_name\": \"fiftyone\",\n",
       "    \"database_uri\": null,\n",
       "    \"database_validation\": true,\n",
       "    \"dataset_zoo_dir\": \"/Users/saumyagoyal/JupyterNotebook/MLCon/MLCon_25S/AIOpsKit/MLCon/1_FiftyOne/fiftyone_root/zoo/datasets\",\n",
       "    \"dataset_zoo_manifest_paths\": null,\n",
       "    \"default_app_address\": \"localhost\",\n",
       "    \"default_app_port\": 5151,\n",
       "    \"default_batch_size\": null,\n",
       "    \"default_batcher\": \"latency\",\n",
       "    \"default_dataset_dir\": \"/Users/saumyagoyal/JupyterNotebook/MLCon/MLCon_25S/AIOpsKit/MLCon/1_FiftyOne/fiftyone_root/default\",\n",
       "    \"default_image_ext\": \".jpg\",\n",
       "    \"default_ml_backend\": \"torch\",\n",
       "    \"default_parallelization_method\": null,\n",
       "    \"default_process_pool_workers\": null,\n",
       "    \"default_sequence_idx\": \"%06d\",\n",
       "    \"default_thread_pool_workers\": null,\n",
       "    \"default_video_ext\": \".mp4\",\n",
       "    \"do_not_track\": true,\n",
       "    \"execution_cache_enabled\": true,\n",
       "    \"logging_level\": \"INFO\",\n",
       "    \"max_process_pool_workers\": null,\n",
       "    \"max_thread_pool_workers\": null,\n",
       "    \"model_zoo_dir\": \"/Users/saumyagoyal/JupyterNotebook/MLCon/MLCon_25S/AIOpsKit/MLCon/1_FiftyOne/fiftyone_root/zoo/models\",\n",
       "    \"model_zoo_manifest_paths\": null,\n",
       "    \"module_path\": null,\n",
       "    \"operator_timeout\": 600,\n",
       "    \"plugins_cache_enabled\": false,\n",
       "    \"plugins_dir\": \"/Users/saumyagoyal/JupyterNotebook/MLCon/MLCon_25S/AIOpsKit/MLCon/1_FiftyOne/fiftyone_root/plugins\",\n",
       "    \"requirement_error_level\": 0,\n",
       "    \"show_progress_bars\": true,\n",
       "    \"timezone\": null\n",
       "}"
      ]
     },
     "execution_count": 3,
     "metadata": {},
     "output_type": "execute_result"
    }
   ],
   "source": [
    "fo.config"
   ]
  },
  {
   "cell_type": "code",
   "execution_count": 4,
   "id": "670baed3",
   "metadata": {},
   "outputs": [
    {
     "data": {
      "text/plain": [
       "{\n",
       "    \"default_backend\": \"labelstudio\",\n",
       "    \"backends\": {\n",
       "        \"cvat\": {\n",
       "            \"config_cls\": \"fiftyone.utils.cvat.CVATBackendConfig\",\n",
       "            \"url\": \"https://app.cvat.ai\"\n",
       "        },\n",
       "        \"labelbox\": {\n",
       "            \"config_cls\": \"fiftyone.utils.labelbox.LabelboxBackendConfig\",\n",
       "            \"url\": \"https://labelbox.com\"\n",
       "        },\n",
       "        \"labelstudio\": {\n",
       "            \"url\": \"http://localhost:8080/\",\n",
       "            \"api_key\": \"2fdcccfe63c942875fa20dfa44caccf1aff0e483\",\n",
       "            \"config_cls\": \"fiftyone.utils.labelstudio.LabelStudioBackendConfig\"\n",
       "        }\n",
       "    }\n",
       "}"
      ]
     },
     "execution_count": 4,
     "metadata": {},
     "output_type": "execute_result"
    }
   ],
   "source": [
    "fo.annotation_config"
   ]
  },
  {
   "cell_type": "code",
   "execution_count": 6,
   "id": "a3b205bf",
   "metadata": {},
   "outputs": [
    {
     "name": "stdout",
     "output_type": "stream",
     "text": [
      "You are running the oldest supported major version of MongoDB. Please refer to https://deprecation.voxel51.com for deprecation notices. You can suppress this exception by setting your `database_validation` config parameter to `False`. See https://docs.voxel51.com/user_guide/config.html#configuring-a-mongodb-connection for more information\n"
     ]
    },
    {
     "data": {
      "text/plain": [
       "['quickstart']"
      ]
     },
     "execution_count": 6,
     "metadata": {},
     "output_type": "execute_result"
    }
   ],
   "source": [
    "fo.list_datasets()"
   ]
  },
  {
   "cell_type": "code",
   "execution_count": 7,
   "id": "78b833b8",
   "metadata": {},
   "outputs": [
    {
     "name": "stdout",
     "output_type": "stream",
     "text": [
      "Dataset already downloaded\n",
      "Loading existing dataset 'quickstart'. To reload from disk, either delete the existing dataset or provide a custom `dataset_name` to use\n"
     ]
    }
   ],
   "source": [
    "dataset = foz.load_zoo_dataset(\n",
    "    \"quickstart\")"
   ]
  },
  {
   "cell_type": "code",
   "execution_count": 8,
   "id": "412aa597",
   "metadata": {},
   "outputs": [
    {
     "data": {
      "text/plain": [
       "['dogs_view', 'cluster_2_view']"
      ]
     },
     "execution_count": 8,
     "metadata": {},
     "output_type": "execute_result"
    }
   ],
   "source": [
    "dataset.list_saved_views()"
   ]
  },
  {
   "cell_type": "code",
   "execution_count": 9,
   "id": "647901b0",
   "metadata": {},
   "outputs": [],
   "source": [
    "dogs_view = dataset.load_saved_view(\"dogs_view\")"
   ]
  },
  {
   "cell_type": "code",
   "execution_count": 10,
   "id": "ab3f859e",
   "metadata": {},
   "outputs": [],
   "source": [
    "annotion_key = \"labelstudio_fifityone_dogs_annotations_v1\""
   ]
  },
  {
   "cell_type": "code",
   "execution_count": 11,
   "id": "38de9fe9",
   "metadata": {},
   "outputs": [],
   "source": [
    "label_schema = {\n",
    "    \"ls_groundtruth\": {\n",
    "        \"type\": \"detections\",\n",
    "        \"classes\": [\"dog\", \"cat\", \"unknown\", \"horse\", \"cow\", \"sheep\", \"car\", \"ship\"],\n",
    "    }\n",
    "}"
   ]
  },
  {
   "cell_type": "code",
   "execution_count": 13,
   "id": "c73cdb18",
   "metadata": {},
   "outputs": [
    {
     "name": "stdout",
     "output_type": "stream",
     "text": [
      "The backend 'labelstudio' does not support attributes. Provided attributes will be ignored.\n"
     ]
    },
    {
     "name": "stderr",
     "output_type": "stream",
     "text": [
      "/Users/saumyagoyal/JupyterNotebook/MLCon/MLCon_25S/AIOpsKit/MLCon/.venv/lib/python3.12/site-packages/label_studio_sdk/_extensions/label_studio_tools/core/label_config.py:137: SyntaxWarning: invalid escape sequence '\\$'\n",
      "  expression = \"^\\$[A-Za-z_]+$\"\n",
      "/Users/saumyagoyal/JupyterNotebook/MLCon/MLCon_25S/AIOpsKit/MLCon/.venv/lib/python3.12/site-packages/label_studio_sdk/files/client.py:116: SyntaxWarning: invalid escape sequence '\\ '\n",
      "  \"\"\"\n",
      "/Users/saumyagoyal/JupyterNotebook/MLCon/MLCon_25S/AIOpsKit/MLCon/.venv/lib/python3.12/site-packages/label_studio_sdk/files/client.py:442: SyntaxWarning: invalid escape sequence '\\ '\n",
      "  \"\"\"\n",
      "/Users/saumyagoyal/JupyterNotebook/MLCon/MLCon_25S/AIOpsKit/MLCon/.venv/lib/python3.12/site-packages/label_studio_sdk/projects/client.py:520: SyntaxWarning: invalid escape sequence '\\.'\n",
      "  \"\"\"\n",
      "/Users/saumyagoyal/JupyterNotebook/MLCon/MLCon_25S/AIOpsKit/MLCon/.venv/lib/python3.12/site-packages/label_studio_sdk/projects/client.py:1235: SyntaxWarning: invalid escape sequence '\\.'\n",
      "  \"\"\"\n",
      "/Users/saumyagoyal/JupyterNotebook/MLCon/MLCon_25S/AIOpsKit/MLCon/.venv/lib/python3.12/site-packages/label_studio_sdk/projects/exports/client.py:43: SyntaxWarning: invalid escape sequence '\\&'\n",
      "  \"\"\"\n",
      "/Users/saumyagoyal/JupyterNotebook/MLCon/MLCon_25S/AIOpsKit/MLCon/.venv/lib/python3.12/site-packages/label_studio_sdk/projects/exports/client.py:592: SyntaxWarning: invalid escape sequence '\\&'\n",
      "  \"\"\"\n"
     ]
    },
    {
     "name": "stdout",
     "output_type": "stream",
     "text": [
      "Uploading media to Label Studio...\n",
      "Computing metadata...\n",
      " 100% |███████████████████| 10/10 [52.7ms elapsed, 0s remaining, 189.7 samples/s] \n",
      "Upload complete\n"
     ]
    },
    {
     "data": {
      "text/plain": [
       "<fiftyone.utils.labelstudio.LabelStudioAnnotationResults at 0x1402a5b80>"
      ]
     },
     "execution_count": 13,
     "metadata": {},
     "output_type": "execute_result"
    }
   ],
   "source": [
    "# send the data to LS for annotation\n",
    "\n",
    "dogs_view.annotate(\n",
    "    anno_key = annotion_key,\n",
    "    label_schema = label_schema,\n",
    "    project_name = \"fiftyone_ls_integration\",\n",
    ")"
   ]
  },
  {
   "cell_type": "code",
   "execution_count": 14,
   "id": "fbc71af8",
   "metadata": {},
   "outputs": [
    {
     "data": {
      "text/plain": [
       "['labelstudio_fifityone_dogs_annotations_v1']"
      ]
     },
     "execution_count": 14,
     "metadata": {},
     "output_type": "execute_result"
    }
   ],
   "source": [
    "# look at the annotations\n",
    "dataset.list_annotation_runs()"
   ]
  },
  {
   "cell_type": "code",
   "execution_count": 15,
   "id": "853596e6",
   "metadata": {},
   "outputs": [
    {
     "name": "stdout",
     "output_type": "stream",
     "text": [
      "Downloading labels from Label Studio...\n",
      "Download complete\n",
      "Loading labels for field 'ls_groundtruth'...\n",
      " 100% |███████████████████| 10/10 [13.9ms elapsed, 0s remaining, 718.1 samples/s] \n"
     ]
    }
   ],
   "source": [
    "# load the annotations back into FiftyOne\n",
    "\n",
    "dataset.load_annotations(annotion_key)"
   ]
  },
  {
   "cell_type": "code",
   "execution_count": 22,
   "id": "13e2ac1e",
   "metadata": {},
   "outputs": [],
   "source": [
    "from fiftyone import ViewField as F\n",
    "\n",
    "dogs_annotated_view = (\n",
    "    dataset\n",
    "    .filter_labels(\"ground_truth\", F(\"label\") == \"dog\")\n",
    ")\n",
    "dataset.save_view(\"dogs_annotated_view_v3\", dogs_annotated_view)"
   ]
  },
  {
   "cell_type": "code",
   "execution_count": null,
   "id": "a9df27ef",
   "metadata": {},
   "outputs": [],
   "source": []
  }
 ],
 "metadata": {
  "kernelspec": {
   "display_name": ".venv",
   "language": "python",
   "name": "python3"
  },
  "language_info": {
   "codemirror_mode": {
    "name": "ipython",
    "version": 3
   },
   "file_extension": ".py",
   "mimetype": "text/x-python",
   "name": "python",
   "nbconvert_exporter": "python",
   "pygments_lexer": "ipython3",
   "version": "3.12.7"
  }
 },
 "nbformat": 4,
 "nbformat_minor": 5
}
