{
 "cells": [
  {
   "cell_type": "code",
   "execution_count": 1,
   "id": "ef69954c",
   "metadata": {},
   "outputs": [
    {
     "data": {
      "text/plain": [
       "True"
      ]
     },
     "execution_count": 1,
     "metadata": {},
     "output_type": "execute_result"
    }
   ],
   "source": [
    "from dotenv import load_dotenv\n",
    "load_dotenv(\"../.env\")"
   ]
  },
  {
   "cell_type": "code",
   "execution_count": 10,
   "id": "26547ee2",
   "metadata": {},
   "outputs": [],
   "source": [
    "import fiftyone as fo\n",
    "import fiftyone.zoo as foz\n",
    "import fiftyone.brain as fob"
   ]
  },
  {
   "cell_type": "code",
   "execution_count": 5,
   "id": "a044c588",
   "metadata": {},
   "outputs": [
    {
     "data": {
      "text/plain": [
       "{\n",
       "    \"allow_legacy_orchestrators\": false,\n",
       "    \"batcher_static_size\": 100,\n",
       "    \"batcher_target_latency\": 0.2,\n",
       "    \"batcher_target_size_bytes\": 1048576,\n",
       "    \"database_admin\": true,\n",
       "    \"database_compressor\": null,\n",
       "    \"database_dir\": \"/Users/saumyagoyal/JupyterNotebook/MLCon/MLCon_25S/AIOpsKit/MLCon/1_FiftyOne/fiftyone_root/database\",\n",
       "    \"database_name\": \"fiftyone\",\n",
       "    \"database_uri\": null,\n",
       "    \"database_validation\": true,\n",
       "    \"dataset_zoo_dir\": \"/Users/saumyagoyal/JupyterNotebook/MLCon/MLCon_25S/AIOpsKit/MLCon/1_FiftyOne/fiftyone_root/zoo/datasets\",\n",
       "    \"dataset_zoo_manifest_paths\": null,\n",
       "    \"default_app_address\": \"localhost\",\n",
       "    \"default_app_port\": 5151,\n",
       "    \"default_batch_size\": null,\n",
       "    \"default_batcher\": \"latency\",\n",
       "    \"default_dataset_dir\": \"/Users/saumyagoyal/JupyterNotebook/MLCon/MLCon_25S/AIOpsKit/MLCon/1_FiftyOne/fiftyone_root/default\",\n",
       "    \"default_image_ext\": \".jpg\",\n",
       "    \"default_ml_backend\": \"torch\",\n",
       "    \"default_parallelization_method\": null,\n",
       "    \"default_process_pool_workers\": null,\n",
       "    \"default_sequence_idx\": \"%06d\",\n",
       "    \"default_thread_pool_workers\": null,\n",
       "    \"default_video_ext\": \".mp4\",\n",
       "    \"do_not_track\": true,\n",
       "    \"execution_cache_enabled\": true,\n",
       "    \"logging_level\": \"INFO\",\n",
       "    \"max_process_pool_workers\": null,\n",
       "    \"max_thread_pool_workers\": null,\n",
       "    \"model_zoo_dir\": \"/Users/saumyagoyal/JupyterNotebook/MLCon/MLCon_25S/AIOpsKit/MLCon/1_FiftyOne/fiftyone_root/zoo/models\",\n",
       "    \"model_zoo_manifest_paths\": null,\n",
       "    \"module_path\": null,\n",
       "    \"operator_timeout\": 600,\n",
       "    \"plugins_cache_enabled\": false,\n",
       "    \"plugins_dir\": \"/Users/saumyagoyal/JupyterNotebook/MLCon/MLCon_25S/AIOpsKit/MLCon/1_FiftyOne/fiftyone_root/default/__plugins__\",\n",
       "    \"requirement_error_level\": 0,\n",
       "    \"show_progress_bars\": true,\n",
       "    \"timezone\": null\n",
       "}"
      ]
     },
     "execution_count": 5,
     "metadata": {},
     "output_type": "execute_result"
    }
   ],
   "source": [
    "fo.config"
   ]
  },
  {
   "cell_type": "code",
   "execution_count": 6,
   "id": "65ae6974",
   "metadata": {},
   "outputs": [
    {
     "name": "stdout",
     "output_type": "stream",
     "text": [
      "Downloading dataset to '/Users/saumyagoyal/JupyterNotebook/MLCon/MLCon_25S/AIOpsKit/MLCon/1_FiftyOne/fiftyone_root/zoo/datasets/quickstart'\n",
      "Downloading dataset...\n",
      " 100% |████|  187.5Mb/187.5Mb [26.7s elapsed, 0s remaining, 7.2Mb/s]      \n",
      "Extracting dataset...\n",
      "Parsing dataset metadata\n",
      "Found 200 samples\n",
      "Dataset info written to '/Users/saumyagoyal/JupyterNotebook/MLCon/MLCon_25S/AIOpsKit/MLCon/1_FiftyOne/fiftyone_root/zoo/datasets/quickstart/info.json'\n",
      "You are running the oldest supported major version of MongoDB. Please refer to https://deprecation.voxel51.com for deprecation notices. You can suppress this exception by setting your `database_validation` config parameter to `False`. See https://docs.voxel51.com/user_guide/config.html#configuring-a-mongodb-connection for more information\n",
      "Loading 'quickstart'\n",
      " 100% |█████████████████| 200/200 [4.1s elapsed, 0s remaining, 46.0 samples/s]      \n",
      "Dataset 'quickstart' created\n"
     ]
    }
   ],
   "source": [
    "dataset = foz.load_zoo_dataset(\n",
    "    \"quickstart\")"
   ]
  },
  {
   "cell_type": "code",
   "execution_count": 7,
   "id": "0db24f52",
   "metadata": {},
   "outputs": [
    {
     "name": "stdout",
     "output_type": "stream",
     "text": [
      "Session launched. Run `session.show()` to open the App in a cell output.\n"
     ]
    }
   ],
   "source": [
    "session = fo.launch_app(dataset, port=5151, auto=False)"
   ]
  },
  {
   "cell_type": "code",
   "execution_count": 8,
   "id": "6d69173d",
   "metadata": {},
   "outputs": [
    {
     "data": {
      "text/plain": [
       "'http://localhost:5151/'"
      ]
     },
     "execution_count": 8,
     "metadata": {},
     "output_type": "execute_result"
    }
   ],
   "source": [
    "session.url"
   ]
  },
  {
   "cell_type": "code",
   "execution_count": 12,
   "id": "2981be22",
   "metadata": {},
   "outputs": [
    {
     "name": "stderr",
     "output_type": "stream",
     "text": [
      "/Users/saumyagoyal/JupyterNotebook/MLCon/MLCon_25S/AIOpsKit/MLCon/.venv/lib/python3.12/site-packages/fiftyone/utils/clip/tokenizer.py:107: SyntaxWarning: invalid escape sequence '\\p'\n",
      "  + \"\"\"[\\p{L}]+|[\\p{N}]|[^\\s\\p{L}\\p{N}]+\"\"\",\n"
     ]
    },
    {
     "name": "stdout",
     "output_type": "stream",
     "text": [
      "Computing embeddings...\n",
      " 100% |█████████████████| 200/200 [11.4s elapsed, 0s remaining, 11.9 samples/s]      \n"
     ]
    },
    {
     "data": {
      "text/plain": [
       "<fiftyone.brain.internal.core.sklearn.SklearnSimilarityIndex at 0x13fc48770>"
      ]
     },
     "execution_count": 12,
     "metadata": {},
     "output_type": "execute_result"
    }
   ],
   "source": [
    "fob.compute_similarity(\n",
    "    dataset,\n",
    "    model=\"clip-vit-base32-torch\",\n",
    "    brain_key=\"sim_embeddings\")"
   ]
  },
  {
   "cell_type": "code",
   "execution_count": 13,
   "id": "d9c8bb1f",
   "metadata": {},
   "outputs": [
    {
     "name": "stdout",
     "output_type": "stream",
     "text": [
      "Computing embeddings...\n",
      " 100% |█████████████████| 200/200 [34.5s elapsed, 0s remaining, 5.6 samples/s]      \n",
      "Generating visualization...\n"
     ]
    },
    {
     "name": "stderr",
     "output_type": "stream",
     "text": [
      "/Users/saumyagoyal/JupyterNotebook/MLCon/MLCon_25S/AIOpsKit/MLCon/.venv/lib/python3.12/site-packages/sklearn/utils/deprecation.py:132: FutureWarning: 'force_all_finite' was renamed to 'ensure_all_finite' in 1.6 and will be removed in 1.8.\n",
      "  warnings.warn(\n"
     ]
    },
    {
     "name": "stdout",
     "output_type": "stream",
     "text": [
      "UMAP( verbose=True)\n",
      "Fri Jun 27 10:49:35 2025 Construct fuzzy simplicial set\n",
      "Fri Jun 27 10:49:35 2025 Finding Nearest Neighbors\n",
      "Fri Jun 27 10:49:39 2025 Finished Nearest Neighbor Search\n",
      "Fri Jun 27 10:49:41 2025 Construct embedding\n"
     ]
    },
    {
     "data": {
      "application/vnd.jupyter.widget-view+json": {
       "model_id": "a0573b9d890f41578b45dac51b9a6c93",
       "version_major": 2,
       "version_minor": 0
      },
      "text/plain": [
       "Epochs completed:   0%|            0/500 [00:00]"
      ]
     },
     "metadata": {},
     "output_type": "display_data"
    },
    {
     "name": "stdout",
     "output_type": "stream",
     "text": [
      "\tcompleted  0  /  500 epochs\n",
      "\tcompleted  50  /  500 epochs\n",
      "\tcompleted  100  /  500 epochs\n",
      "\tcompleted  150  /  500 epochs\n",
      "\tcompleted  200  /  500 epochs\n",
      "\tcompleted  250  /  500 epochs\n",
      "\tcompleted  300  /  500 epochs\n",
      "\tcompleted  350  /  500 epochs\n",
      "\tcompleted  400  /  500 epochs\n",
      "\tcompleted  450  /  500 epochs\n",
      "Fri Jun 27 10:49:43 2025 Finished embedding\n"
     ]
    },
    {
     "data": {
      "text/plain": [
       "<fiftyone.brain.visualization.VisualizationResults at 0x1400cce30>"
      ]
     },
     "execution_count": 13,
     "metadata": {},
     "output_type": "execute_result"
    }
   ],
   "source": [
    "fob.compute_visualization(\n",
    "    dataset,\n",
    "    brain_key=\"img_viz\",\n",
    ")"
   ]
  },
  {
   "cell_type": "code",
   "execution_count": null,
   "id": "6af5983a",
   "metadata": {},
   "outputs": [],
   "source": []
  }
 ],
 "metadata": {
  "kernelspec": {
   "display_name": ".venv",
   "language": "python",
   "name": "python3"
  },
  "language_info": {
   "codemirror_mode": {
    "name": "ipython",
    "version": 3
   },
   "file_extension": ".py",
   "mimetype": "text/x-python",
   "name": "python",
   "nbconvert_exporter": "python",
   "pygments_lexer": "ipython3",
   "version": "3.12.7"
  }
 },
 "nbformat": 4,
 "nbformat_minor": 5
}
