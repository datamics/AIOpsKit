{
 "cells": [
  {
   "cell_type": "code",
   "execution_count": 3,
   "id": "e69f8d95",
   "metadata": {},
   "outputs": [
    {
     "data": {
      "text/plain": [
       "True"
      ]
     },
     "execution_count": 3,
     "metadata": {},
     "output_type": "execute_result"
    }
   ],
   "source": [
    "from dotenv import load_dotenv\n",
    "load_dotenv(\"../.env\")"
   ]
  },
  {
   "cell_type": "code",
   "execution_count": 4,
   "id": "57a4d82c",
   "metadata": {},
   "outputs": [],
   "source": [
    "import fiftyone as fo\n",
    "import fiftyone.zoo as foz\n",
    "import fiftyone.brain as fob"
   ]
  },
  {
   "cell_type": "code",
   "execution_count": 5,
   "id": "dc17a231",
   "metadata": {},
   "outputs": [
    {
     "name": "stdout",
     "output_type": "stream",
     "text": [
      "Dataset already downloaded\n",
      "You are running the oldest supported major version of MongoDB. Please refer to https://deprecation.voxel51.com for deprecation notices. You can suppress this exception by setting your `database_validation` config parameter to `False`. See https://docs.voxel51.com/user_guide/config.html#configuring-a-mongodb-connection for more information\n",
      "Loading existing dataset 'quickstart'. To reload from disk, either delete the existing dataset or provide a custom `dataset_name` to use\n"
     ]
    }
   ],
   "source": [
    "dataset = foz.load_zoo_dataset(\n",
    "    \"quickstart\")"
   ]
  },
  {
   "cell_type": "code",
   "execution_count": 11,
   "id": "d8006353",
   "metadata": {},
   "outputs": [
    {
     "name": "stdout",
     "output_type": "stream",
     "text": [
      "Session launched. Run `session.show()` to open the App in a cell output.\n"
     ]
    },
    {
     "data": {
      "text/plain": [
       "'http://localhost:5151/'"
      ]
     },
     "execution_count": 11,
     "metadata": {},
     "output_type": "execute_result"
    }
   ],
   "source": [
    "session = fo.launch_app(dataset, auto=False, port=5151)\n",
    "session.url"
   ]
  },
  {
   "cell_type": "code",
   "execution_count": 6,
   "id": "92ceb199",
   "metadata": {},
   "outputs": [
    {
     "data": {
      "text/plain": [
       "['dogs_view',\n",
       " 'cluster_2_view',\n",
       " 'dogs_annotated_view',\n",
       " 'dogs_annotated_view2',\n",
       " 'dogs_annotated_view_v3']"
      ]
     },
     "execution_count": 6,
     "metadata": {},
     "output_type": "execute_result"
    }
   ],
   "source": [
    "dataset.list_saved_views()"
   ]
  },
  {
   "cell_type": "code",
   "execution_count": 8,
   "id": "b930d70b",
   "metadata": {},
   "outputs": [],
   "source": [
    "dogs_annotated_view = dataset.load_saved_view(\"dogs_annotated_view_v3\")"
   ]
  },
  {
   "cell_type": "code",
   "execution_count": 9,
   "id": "f31c36d7",
   "metadata": {},
   "outputs": [
    {
     "name": "stdout",
     "output_type": "stream",
     "text": [
      "Evaluating detections...\n",
      " 100% |███████████████████| 10/10 [45.9ms elapsed, 0s remaining, 217.9 samples/s] \n"
     ]
    }
   ],
   "source": [
    "evaluation_key = \"groundtruth_vs_ls_annotations\"\n",
    "\n",
    "results = dogs_annotated_view.evaluate_detections(\n",
    "    \"ls_groundtruth\",\n",
    "    gt_key=\"groundtruth\",\n",
    "    eval_key=evaluation_key,\n",
    "    method=\"coco\",\n",
    ")\n"
   ]
  },
  {
   "cell_type": "code",
   "execution_count": 10,
   "id": "b2d6fa3e",
   "metadata": {},
   "outputs": [
    {
     "name": "stdout",
     "output_type": "stream",
     "text": [
      "              precision    recall  f1-score   support\n",
      "\n",
      "         car       0.00      0.00      0.00         0\n",
      "         cat       0.00      0.00      0.00         0\n",
      "         cow       0.00      0.00      0.00         0\n",
      "         dog       0.50      0.20      0.29        15\n",
      "       horse       0.00      0.00      0.00         0\n",
      "       sheep       0.00      0.00      0.00         0\n",
      "        ship       0.00      0.00      0.00         0\n",
      "     unknown       0.00      0.00      0.00         0\n",
      "\n",
      "   micro avg       0.19      0.20      0.19        15\n",
      "   macro avg       0.06      0.03      0.04        15\n",
      "weighted avg       0.50      0.20      0.29        15\n",
      "\n"
     ]
    }
   ],
   "source": [
    "results.print_report()"
   ]
  },
  {
   "cell_type": "code",
   "execution_count": 12,
   "id": "5bf644b7",
   "metadata": {},
   "outputs": [],
   "source": [
    "from fiftyone import ViewField as F\n"
   ]
  },
  {
   "cell_type": "code",
   "execution_count": 17,
   "id": "cdb4ffc8",
   "metadata": {},
   "outputs": [],
   "source": [
    "### visualize the results\n",
    "\n",
    "detect_fp_view = dogs_annotated_view.filter_labels(\n",
    "    \"ls_groundtruth\",\n",
    "    F(evaluation_key) == \"fp\", only_matches=True)\n",
    "\n",
    "\n",
    "dataset.save_view(\"fp_v2\", detect_fp_view)"
   ]
  },
  {
   "cell_type": "code",
   "execution_count": null,
   "id": "9fa3ee6f",
   "metadata": {},
   "outputs": [],
   "source": []
  }
 ],
 "metadata": {
  "kernelspec": {
   "display_name": ".venv",
   "language": "python",
   "name": "python3"
  },
  "language_info": {
   "codemirror_mode": {
    "name": "ipython",
    "version": 3
   },
   "file_extension": ".py",
   "mimetype": "text/x-python",
   "name": "python",
   "nbconvert_exporter": "python",
   "pygments_lexer": "ipython3",
   "version": "3.12.7"
  }
 },
 "nbformat": 4,
 "nbformat_minor": 5
}
