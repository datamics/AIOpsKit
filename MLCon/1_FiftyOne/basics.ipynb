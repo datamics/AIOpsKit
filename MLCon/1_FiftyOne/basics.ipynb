{
 "cells": [
  {
   "cell_type": "code",
   "execution_count": 1,
   "id": "d4af89b6",
   "metadata": {},
   "outputs": [
    {
     "data": {
      "text/plain": [
       "True"
      ]
     },
     "execution_count": 1,
     "metadata": {},
     "output_type": "execute_result"
    }
   ],
   "source": [
    "from dotenv import load_dotenv\n",
    "load_dotenv(\"../.env\")"
   ]
  },
  {
   "cell_type": "code",
   "execution_count": 2,
   "id": "f431ad71",
   "metadata": {},
   "outputs": [],
   "source": [
    "import fiftyone as fo\n",
    "import fiftyone.zoo as foz\n",
    "import fiftyone.brain as fob"
   ]
  },
  {
   "cell_type": "code",
   "execution_count": 3,
   "id": "8a34420a",
   "metadata": {},
   "outputs": [
    {
     "data": {
      "text/plain": [
       "{\n",
       "    \"allow_legacy_orchestrators\": false,\n",
       "    \"batcher_static_size\": 100,\n",
       "    \"batcher_target_latency\": 0.2,\n",
       "    \"batcher_target_size_bytes\": 1048576,\n",
       "    \"database_admin\": true,\n",
       "    \"database_compressor\": null,\n",
       "    \"database_dir\": \"/Users/saumyagoyal/JupyterNotebook/MLCon/MLCon_25S/AIOpsKit/MLCon/1_FiftyOne/fiftyone_root/database\",\n",
       "    \"database_name\": \"fiftyone\",\n",
       "    \"database_uri\": null,\n",
       "    \"database_validation\": true,\n",
       "    \"dataset_zoo_dir\": \"/Users/saumyagoyal/JupyterNotebook/MLCon/MLCon_25S/AIOpsKit/MLCon/1_FiftyOne/fiftyone_root/zoo/datasets\",\n",
       "    \"dataset_zoo_manifest_paths\": null,\n",
       "    \"default_app_address\": \"localhost\",\n",
       "    \"default_app_port\": 5151,\n",
       "    \"default_batch_size\": null,\n",
       "    \"default_batcher\": \"latency\",\n",
       "    \"default_dataset_dir\": \"/Users/saumyagoyal/JupyterNotebook/MLCon/MLCon_25S/AIOpsKit/MLCon/1_FiftyOne/fiftyone_root/default\",\n",
       "    \"default_image_ext\": \".jpg\",\n",
       "    \"default_ml_backend\": \"torch\",\n",
       "    \"default_parallelization_method\": null,\n",
       "    \"default_process_pool_workers\": null,\n",
       "    \"default_sequence_idx\": \"%06d\",\n",
       "    \"default_thread_pool_workers\": null,\n",
       "    \"default_video_ext\": \".mp4\",\n",
       "    \"do_not_track\": true,\n",
       "    \"execution_cache_enabled\": true,\n",
       "    \"logging_level\": \"INFO\",\n",
       "    \"max_process_pool_workers\": null,\n",
       "    \"max_thread_pool_workers\": null,\n",
       "    \"model_zoo_dir\": \"/Users/saumyagoyal/JupyterNotebook/MLCon/MLCon_25S/AIOpsKit/MLCon/1_FiftyOne/fiftyone_root/zoo/models\",\n",
       "    \"model_zoo_manifest_paths\": null,\n",
       "    \"module_path\": null,\n",
       "    \"operator_timeout\": 600,\n",
       "    \"plugins_cache_enabled\": false,\n",
       "    \"plugins_dir\": \"/Users/saumyagoyal/JupyterNotebook/MLCon/MLCon_25S/AIOpsKit/MLCon/1_FiftyOne/fiftyone_root/plugins\",\n",
       "    \"requirement_error_level\": 0,\n",
       "    \"show_progress_bars\": true,\n",
       "    \"timezone\": null\n",
       "}"
      ]
     },
     "execution_count": 3,
     "metadata": {},
     "output_type": "execute_result"
    }
   ],
   "source": [
    "fo.config"
   ]
  },
  {
   "cell_type": "code",
   "execution_count": 4,
   "id": "b60d4c7f",
   "metadata": {},
   "outputs": [
    {
     "name": "stdout",
     "output_type": "stream",
     "text": [
      "zsh:1: /Users/saumyagoyal/JupyterNotebook/MLCon/MLCon_25S/AIOpsKit/MLCon/.venv/bin/fiftyone: bad interpreter: /Users/saumyagoyal/JupyterNotebook/MLCon/MLCon_25S/MLCon/.venv/bin/python3.12: no such file or directory\n",
      "Downloading jacobmarks/clustering-plugin...\n",
      "  162.8Kb [13.6ms elapsed, ? remaining, 11.9Mb/s] \n",
      "Copying plugin '@jacobmarks/clustering' to '/Users/saumyagoyal/JupyterNotebook/MLCon/MLCon_25S/AIOpsKit/MLCon/1_FiftyOne/fiftyone_root/plugins/@jacobmarks/clustering'\n"
     ]
    }
   ],
   "source": [
    "!fiftyone plugins download https://github.com/jacobmarks/clustering-plugin "
   ]
  },
  {
   "cell_type": "code",
   "execution_count": 5,
   "id": "d61abb88",
   "metadata": {},
   "outputs": [
    {
     "name": "stdout",
     "output_type": "stream",
     "text": [
      "Dataset already downloaded\n",
      "You are running the oldest supported major version of MongoDB. Please refer to https://deprecation.voxel51.com for deprecation notices. You can suppress this exception by setting your `database_validation` config parameter to `False`. See https://docs.voxel51.com/user_guide/config.html#configuring-a-mongodb-connection for more information\n",
      "Loading existing dataset 'quickstart'. To reload from disk, either delete the existing dataset or provide a custom `dataset_name` to use\n"
     ]
    }
   ],
   "source": [
    "dataset = foz.load_zoo_dataset(\n",
    "    \"quickstart\")"
   ]
  },
  {
   "cell_type": "code",
   "execution_count": 8,
   "id": "e74123dd",
   "metadata": {},
   "outputs": [
    {
     "name": "stdout",
     "output_type": "stream",
     "text": [
      "Session launched. Run `session.show()` to open the App in a cell output.\n"
     ]
    }
   ],
   "source": [
    "session = fo.launch_app(dataset, port=5152, auto=False)    "
   ]
  },
  {
   "cell_type": "code",
   "execution_count": 9,
   "id": "4eaa4d8f",
   "metadata": {},
   "outputs": [
    {
     "data": {
      "text/plain": [
       "'http://localhost:5152/'"
      ]
     },
     "execution_count": 9,
     "metadata": {},
     "output_type": "execute_result"
    }
   ],
   "source": [
    "session.url"
   ]
  },
  {
   "cell_type": "code",
   "execution_count": 6,
   "id": "784c818f",
   "metadata": {},
   "outputs": [],
   "source": [
    "sample = dataset.first()"
   ]
  },
  {
   "cell_type": "code",
   "execution_count": null,
   "id": "d126d9ad",
   "metadata": {},
   "outputs": [],
   "source": [
    "sample.id"
   ]
  },
  {
   "cell_type": "code",
   "execution_count": null,
   "id": "e03afee2",
   "metadata": {},
   "outputs": [],
   "source": [
    "sample.filepath"
   ]
  },
  {
   "cell_type": "code",
   "execution_count": null,
   "id": "06d44faa",
   "metadata": {},
   "outputs": [],
   "source": [
    "sample.metadata"
   ]
  },
  {
   "cell_type": "code",
   "execution_count": null,
   "id": "3e07fac5",
   "metadata": {},
   "outputs": [],
   "source": [
    "sample.ground_truth"
   ]
  },
  {
   "cell_type": "code",
   "execution_count": null,
   "id": "f2158c48",
   "metadata": {},
   "outputs": [],
   "source": [
    "sample.tags"
   ]
  },
  {
   "cell_type": "code",
   "execution_count": null,
   "id": "9a2f2726",
   "metadata": {},
   "outputs": [],
   "source": [
    "## creating a view\n",
    "from fiftyone import ViewField as F\n",
    "\n",
    "dogs_view = (\n",
    "    dataset\n",
    "    .select_fields(\"ground_truth\", \"predictions\")\n",
    "    .filter_labels(\"ground_truth\", F(\"label\") == \"dog\")\n",
    ")"
   ]
  },
  {
   "cell_type": "code",
   "execution_count": null,
   "id": "76baa51c",
   "metadata": {},
   "outputs": [],
   "source": [
    "dataset.save_view(\"dogs_view\", dogs_view)"
   ]
  },
  {
   "cell_type": "code",
   "execution_count": 11,
   "id": "f067c948",
   "metadata": {},
   "outputs": [
    {
     "name": "stdout",
     "output_type": "stream",
     "text": [
      "number of images in cluster2: 23\n"
     ]
    }
   ],
   "source": [
    "### create view from the clusters\n",
    "\n",
    "cluster_2_view = dataset.match({\"cluster_name\":\"2\"})\n",
    "print(\"number of images in cluster2:\", len(cluster_2_view))"
   ]
  },
  {
   "cell_type": "code",
   "execution_count": 13,
   "id": "d0f3777f",
   "metadata": {},
   "outputs": [],
   "source": [
    "dataset.save_view(\"cluster_2_view\", cluster_2_view)"
   ]
  },
  {
   "cell_type": "code",
   "execution_count": null,
   "id": "b9459d5f",
   "metadata": {},
   "outputs": [],
   "source": [
    "#### calculate  uniquenesss on cluster 2"
   ]
  },
  {
   "cell_type": "code",
   "execution_count": 14,
   "id": "62c9c4ac",
   "metadata": {},
   "outputs": [
    {
     "name": "stdout",
     "output_type": "stream",
     "text": [
      "Computing embeddings...\n",
      " 100% |███████████████████| 23/23 [348.7ms elapsed, 0s remaining, 66.4 samples/s]      \n",
      "Computing uniqueness...\n",
      "Uniqueness computation complete\n"
     ]
    }
   ],
   "source": [
    "fob.compute_uniqueness(cluster_2_view)"
   ]
  },
  {
   "cell_type": "code",
   "execution_count": 15,
   "id": "96f4c7ec",
   "metadata": {},
   "outputs": [],
   "source": [
    "rank_cluster2_view = cluster_2_view.sort_by(\"uniqueness\", reverse=True)\n",
    "session.view = rank_cluster2_view"
   ]
  },
  {
   "cell_type": "code",
   "execution_count": 17,
   "id": "b44c68f5",
   "metadata": {},
   "outputs": [
    {
     "data": {
      "text/plain": [
       "{\n",
       "    \"default_backend\": \"labelstudio\",\n",
       "    \"backends\": {\n",
       "        \"cvat\": {\n",
       "            \"config_cls\": \"fiftyone.utils.cvat.CVATBackendConfig\",\n",
       "            \"url\": \"https://app.cvat.ai\"\n",
       "        },\n",
       "        \"labelbox\": {\n",
       "            \"config_cls\": \"fiftyone.utils.labelbox.LabelboxBackendConfig\",\n",
       "            \"url\": \"https://labelbox.com\"\n",
       "        },\n",
       "        \"labelstudio\": {\n",
       "            \"url\": \"http://localhost:8080/\",\n",
       "            \"api_key\": null,\n",
       "            \"config_cls\": \"fiftyone.utils.labelstudio.LabelStudioBackendConfig\"\n",
       "        }\n",
       "    }\n",
       "}"
      ]
     },
     "execution_count": 17,
     "metadata": {},
     "output_type": "execute_result"
    }
   ],
   "source": [
    "fo.annotation_config"
   ]
  },
  {
   "cell_type": "code",
   "execution_count": null,
   "id": "f48b91b3",
   "metadata": {},
   "outputs": [],
   "source": []
  }
 ],
 "metadata": {
  "kernelspec": {
   "display_name": ".venv",
   "language": "python",
   "name": "python3"
  },
  "language_info": {
   "codemirror_mode": {
    "name": "ipython",
    "version": 3
   },
   "file_extension": ".py",
   "mimetype": "text/x-python",
   "name": "python",
   "nbconvert_exporter": "python",
   "pygments_lexer": "ipython3",
   "version": "3.12.7"
  }
 },
 "nbformat": 4,
 "nbformat_minor": 5
}
