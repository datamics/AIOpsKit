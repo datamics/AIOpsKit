{
 "cells": [
  {
   "cell_type": "code",
   "execution_count": null,
   "id": "2fd86bcb",
   "metadata": {},
   "outputs": [],
   "source": [
    "# install\n",
    "# pip3 install mlflow"
   ]
  },
  {
   "cell_type": "code",
   "execution_count": 1,
   "id": "2c07fb43",
   "metadata": {},
   "outputs": [],
   "source": [
    "import mlflow"
   ]
  },
  {
   "cell_type": "code",
   "execution_count": 4,
   "id": "0d5e04e4",
   "metadata": {},
   "outputs": [],
   "source": [
    "from random import random, randint"
   ]
  },
  {
   "cell_type": "code",
   "execution_count": 8,
   "id": "24254413",
   "metadata": {},
   "outputs": [],
   "source": [
    "import mlflow\n",
    "from random import random, randint\n",
    "\n",
    "with mlflow.start_run():\n",
    "    \n",
    "    mlflow.log_param(\"Loss\", randint(0,100))\n",
    "    mlflow.log_metric(\"Accuracy\", randint(0,100))\n",
    "    mlflow.log_metric(\"F1 score\", randint(0,100))\n",
    "    "
   ]
  },
  {
   "cell_type": "code",
   "execution_count": null,
   "id": "e6912912",
   "metadata": {},
   "outputs": [],
   "source": []
  }
 ],
 "metadata": {
  "kernelspec": {
   "display_name": "Python 3 (ipykernel)",
   "language": "python",
   "name": "python3"
  },
  "language_info": {
   "codemirror_mode": {
    "name": "ipython",
    "version": 3
   },
   "file_extension": ".py",
   "mimetype": "text/x-python",
   "name": "python",
   "nbconvert_exporter": "python",
   "pygments_lexer": "ipython3",
   "version": "3.9.6"
  }
 },
 "nbformat": 4,
 "nbformat_minor": 5
}
