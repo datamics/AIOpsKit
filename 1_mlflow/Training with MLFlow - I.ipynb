{
 "cells": [
  {
   "cell_type": "code",
   "execution_count": null,
   "id": "dda02b1d",
   "metadata": {},
   "outputs": [],
   "source": [
    "# install sklearn \n",
    "!pip3 install scikit-learn"
   ]
  },
  {
   "cell_type": "code",
   "execution_count": null,
   "id": "5592c15d",
   "metadata": {},
   "outputs": [],
   "source": [
    "# for visualization install seaborn\n",
    "!pip3 install seaborn"
   ]
  },
  {
   "cell_type": "code",
   "execution_count": null,
   "id": "440c8123",
   "metadata": {},
   "outputs": [],
   "source": [
    "# !pip install pandas"
   ]
  },
  {
   "cell_type": "code",
   "execution_count": null,
   "id": "913a0b46",
   "metadata": {},
   "outputs": [],
   "source": [
    "import pandas as pd\n",
    "import numpy as np\n",
    "\n",
    "from sklearn.linear_model import ElasticNet\n",
    "from sklearn.model_selection import train_test_split\n",
    "from sklearn import metrics\n",
    "\n",
    "import matplotlib.pyplot as plt\n",
    "import seaborn as sns\n"
   ]
  },
  {
   "cell_type": "code",
   "execution_count": null,
   "id": "ad48ab95",
   "metadata": {},
   "outputs": [],
   "source": [
    "df = pd.read_csv(\"../data/winequality-red.csv\")"
   ]
  },
  {
   "cell_type": "code",
   "execution_count": null,
   "id": "ea5294e3",
   "metadata": {},
   "outputs": [],
   "source": [
    "df.head()"
   ]
  },
  {
   "cell_type": "code",
   "execution_count": null,
   "id": "9c86d932",
   "metadata": {},
   "outputs": [],
   "source": [
    "df.info()"
   ]
  },
  {
   "cell_type": "code",
   "execution_count": null,
   "id": "dda89ece",
   "metadata": {},
   "outputs": [],
   "source": [
    "# visualize the spread of quality of the wine\n",
    "sns.histplot(df['quality'])"
   ]
  },
  {
   "cell_type": "code",
   "execution_count": null,
   "id": "8a971fee",
   "metadata": {},
   "outputs": [],
   "source": [
    "# Split the data\n",
    "X = df.drop('quality', axis = 1)\n",
    "y = df['quality']"
   ]
  },
  {
   "cell_type": "code",
   "execution_count": null,
   "id": "07c8f867",
   "metadata": {},
   "outputs": [],
   "source": [
    "X_train, X_test, y_train, y_test = train_test_split(X, y, test_size=0.25, random_state=43)"
   ]
  },
  {
   "cell_type": "code",
   "execution_count": null,
   "id": "827ae876",
   "metadata": {},
   "outputs": [],
   "source": [
    "X_train.shape"
   ]
  },
  {
   "cell_type": "code",
   "execution_count": null,
   "id": "2f6dcde9",
   "metadata": {},
   "outputs": [],
   "source": [
    "df.shape"
   ]
  },
  {
   "cell_type": "code",
   "execution_count": null,
   "id": "0654c01a",
   "metadata": {},
   "outputs": [],
   "source": [
    "y_train"
   ]
  },
  {
   "cell_type": "code",
   "execution_count": null,
   "id": "0c6c8e9f",
   "metadata": {},
   "outputs": [],
   "source": [
    "# Training model\n",
    "\n",
    "alpha = 0.5\n",
    "l1 = 0.5\n",
    "\n",
    "lr = ElasticNet(alpha=alpha, l1_ratio=l1)"
   ]
  },
  {
   "cell_type": "code",
   "execution_count": null,
   "id": "a084bd8b",
   "metadata": {},
   "outputs": [],
   "source": [
    "lr.fit(X_train, y_train)"
   ]
  },
  {
   "cell_type": "code",
   "execution_count": null,
   "id": "6ab0073a",
   "metadata": {},
   "outputs": [],
   "source": [
    "def eval_metrics(ground_truth, pred):\n",
    "    \n",
    "    rmse = metrics.mean_squared_error(ground_truth, pred, squared=False)\n",
    "    mae = metrics.mean_absolute_error(ground_truth, pred)\n",
    "    r2 = metrics.r2_score(ground_truth, pred)\n",
    "    \n",
    "    return rmse, mae, r2"
   ]
  },
  {
   "cell_type": "code",
   "execution_count": null,
   "id": "b7db6b24",
   "metadata": {},
   "outputs": [],
   "source": [
    "y_pred = lr.predict(X_train)"
   ]
  },
  {
   "cell_type": "code",
   "execution_count": null,
   "id": "2a11c3d8",
   "metadata": {},
   "outputs": [],
   "source": [
    "rmse, mae, r2 = eval_metrics(y_train, y_pred)"
   ]
  },
  {
   "cell_type": "code",
   "execution_count": null,
   "id": "a86732e9",
   "metadata": {},
   "outputs": [],
   "source": [
    "print(f\"Training metrics: \\nRMSE:{rmse} \\nMAE:{mae} \\nR2:{r2}\")"
   ]
  },
  {
   "cell_type": "code",
   "execution_count": null,
   "id": "5e7201ea",
   "metadata": {},
   "outputs": [],
   "source": [
    "### How to use MLFlow logging"
   ]
  },
  {
   "cell_type": "code",
   "execution_count": null,
   "id": "8be64b51",
   "metadata": {},
   "outputs": [],
   "source": [
    "import mlflow\n",
    "import pandas as pd\n",
    "import numpy as np\n",
    "\n",
    "from sklearn.linear_model import ElasticNet\n",
    "from sklearn.model_selection import train_test_split\n",
    "from sklearn import metrics\n",
    "\n",
    "import matplotlib.pyplot as plt\n",
    "import seaborn as sns\n",
    "\n",
    "\n",
    "def eval_metrics(ground_truth, pred):\n",
    "    \n",
    "    rmse = metrics.mean_squared_error(ground_truth, pred, squared=False)\n",
    "    mae = metrics.mean_absolute_error(ground_truth, pred)\n",
    "    r2 = metrics.r2_score(ground_truth, pred)\n",
    "    \n",
    "    return rmse, mae, r2\n",
    "\n",
    "df = pd.read_csv(\"../data/winequality-red.csv\")\n",
    "\n",
    "# Split the data\n",
    "X = df.drop('quality', axis = 1)\n",
    "y = df['quality']\n",
    "\n",
    "X_train, X_test, y_train, y_test = train_test_split(X, y, test_size=0.25, random_state=43)\n",
    "X_train.shape\n",
    "\n",
    "\n",
    "############ mlflow training\n",
    "\n",
    "with mlflow.start_run():\n",
    "    \n",
    "    # Training model\n",
    "    alpha = 0.5\n",
    "    l1 = 0.5\n",
    "    lr = ElasticNet(alpha=alpha, l1_ratio=l1)\n",
    "    lr.fit(X_train, y_train)\n",
    "    \n",
    "    y_pred = lr.predict(X_train)\n",
    "\n",
    "    rmse, mae, r2 = eval_metrics(y_train, y_pred)\n",
    "    print(f\"Training metrics: \\nRMSE:{rmse} \\nMAE:{mae} \\nR2:{r2}\")\n",
    "    \n",
    "    mlflow.log_param(\"Alpha\", alpha)\n",
    "    mlflow.log_param(\"L1 ratio\", l1)\n",
    "    \n",
    "    mlflow.log_metric(\"RMSE\", rmse)\n",
    "    mlflow.log_metric(\"MAE\", mae)\n",
    "    \n"
   ]
  },
  {
   "cell_type": "code",
   "execution_count": null,
   "id": "3318381b",
   "metadata": {},
   "outputs": [],
   "source": [
    "### Setting experiments, tags, run names"
   ]
  },
  {
   "cell_type": "code",
   "execution_count": null,
   "id": "4cd77364",
   "metadata": {},
   "outputs": [],
   "source": [
    "import mlflow\n",
    "import pandas as pd\n",
    "import numpy as np\n",
    "\n",
    "from sklearn.linear_model import ElasticNet\n",
    "from sklearn.model_selection import train_test_split\n",
    "from sklearn import metrics\n",
    "\n",
    "import matplotlib.pyplot as plt\n",
    "import seaborn as sns\n",
    "\n",
    "\n",
    "def eval_metrics(ground_truth, pred):\n",
    "    \n",
    "    rmse = metrics.mean_squared_error(ground_truth, pred, squared=False)\n",
    "    mae = metrics.mean_absolute_error(ground_truth, pred)\n",
    "    r2 = metrics.r2_score(ground_truth, pred)\n",
    "    \n",
    "    return rmse, mae, r2\n",
    "\n",
    "df = pd.read_csv(\"../data/winequality-red.csv\")\n",
    "\n",
    "# Split the data\n",
    "X = df.drop('quality', axis = 1)\n",
    "y = df['quality']\n",
    "\n",
    "X_train, X_test, y_train, y_test = train_test_split(X, y, test_size=0.25, random_state=43)\n",
    "X_train.shape\n",
    "\n",
    "\n",
    "############ mlflow training\n",
    "\n",
    "experiment_name = \"Experiment-2\"\n",
    "current_run_name = \"first custom run\"\n",
    "\n",
    "tags = {\n",
    "    \"Demo\":\"True\",\n",
    "    \"Created by\": \"User1\"\n",
    "}\n",
    "\n",
    "mlflow.set_experiment(experiment_name)\n",
    "\n",
    "with mlflow.start_run(run_name = current_run_name):\n",
    "    \n",
    "    # Training model\n",
    "    alpha = 0.5\n",
    "    l1 = 0.25\n",
    "    lr = ElasticNet(alpha=alpha, l1_ratio=l1)\n",
    "    lr.fit(X_train, y_train)\n",
    "    \n",
    "    y_pred = lr.predict(X_train)\n",
    "\n",
    "    rmse, mae, r2 = eval_metrics(y_train, y_pred)\n",
    "    print(f\"Training metrics: \\nRMSE:{rmse} \\nMAE:{mae} \\nR2:{r2}\")\n",
    "    \n",
    "    mlflow.log_param(\"Alpha\", alpha)\n",
    "    mlflow.log_param(\"L1 ratio\", l1)\n",
    "    \n",
    "    mlflow.log_metric(\"RMSE\", rmse)\n",
    "    mlflow.log_metric(\"MAE\", mae)\n",
    "    \n",
    "    mlflow.set_tags(tags)\n",
    "    \n"
   ]
  },
  {
   "cell_type": "code",
   "execution_count": null,
   "id": "30d1ca26",
   "metadata": {},
   "outputs": [],
   "source": [
    "### adding Artifac location\n",
    "\n",
    "import mlflow\n",
    "import pandas as pd\n",
    "import numpy as np\n",
    "\n",
    "from sklearn.linear_model import ElasticNet\n",
    "from sklearn.model_selection import train_test_split\n",
    "from sklearn import metrics\n",
    "\n",
    "import matplotlib.pyplot as plt\n",
    "import seaborn as sns\n",
    "\n",
    "\n",
    "def eval_metrics(ground_truth, pred):\n",
    "    \n",
    "    rmse = metrics.mean_squared_error(ground_truth, pred, squared=False)\n",
    "    mae = metrics.mean_absolute_error(ground_truth, pred)\n",
    "    r2 = metrics.r2_score(ground_truth, pred)\n",
    "    \n",
    "    return rmse, mae, r2\n",
    "\n",
    "df = pd.read_csv(\"../data/winequality-red.csv\")\n",
    "\n",
    "# Split the data\n",
    "X = df.drop('quality', axis = 1)\n",
    "y = df['quality']\n",
    "\n",
    "X_train, X_test, y_train, y_test = train_test_split(X, y, test_size=0.25, random_state=43)\n",
    "X_train.shape\n",
    "\n",
    "\n",
    "############ mlflow training\n",
    "\n",
    "experiment_name = \"Experiment-3\"\n",
    "current_run_name = \"second custom run\"\n",
    "artifact_location = \"/Users/saumyagoyal/JupyterNotebook/MLCon/MLCon_23/1_mlflow/artifact_store\"\n",
    "\n",
    "tags = {\n",
    "    \"Demo\":\"True\",\n",
    "    \"Created by\": \"User1\"\n",
    "}\n",
    "\n",
    "# mlflow.create_experiment(experiment_name,artifact_location)\n",
    "mlflow.set_experiment(experiment_name)\n",
    "\n",
    "with mlflow.start_run(run_name = current_run_name):\n",
    "    \n",
    "    # Training model\n",
    "    alpha = 0.1\n",
    "    l1 = 0.5\n",
    "    lr = ElasticNet(alpha=alpha, l1_ratio=l1)\n",
    "    lr.fit(X_train, y_train)\n",
    "    \n",
    "    y_pred = lr.predict(X_train)\n",
    "\n",
    "    rmse, mae, r2 = eval_metrics(y_train, y_pred)\n",
    "    print(f\"Training metrics: \\nRMSE:{rmse} \\nMAE:{mae} \\nR2:{r2}\")\n",
    "    \n",
    "    mlflow.log_param(\"Alpha\", alpha)\n",
    "    mlflow.log_param(\"L1 ratio\", l1)\n",
    "    \n",
    "    mlflow.log_metric(\"RMSE\", rmse)\n",
    "    mlflow.log_metric(\"MAE\", mae)\n",
    "    \n",
    "    mlflow.set_tags(tags)\n",
    "    mlflow.sklearn.log_model(lr, \"Linear regression model - 1\")\n",
    "    \n"
   ]
  },
  {
   "cell_type": "code",
   "execution_count": null,
   "id": "8157c9c9",
   "metadata": {},
   "outputs": [],
   "source": [
    "### Logging model\n",
    "\n",
    "### adding Artifac location\n",
    "\n",
    "import mlflow\n",
    "import pandas as pd\n",
    "import numpy as np\n",
    "\n",
    "from sklearn.linear_model import ElasticNet\n",
    "from sklearn.model_selection import train_test_split\n",
    "from sklearn import metrics\n",
    "\n",
    "import matplotlib.pyplot as plt\n",
    "import seaborn as sns\n",
    "\n",
    "\n",
    "def eval_metrics(ground_truth, pred):\n",
    "    \n",
    "    rmse = metrics.mean_squared_error(ground_truth, pred, squared=False)\n",
    "    mae = metrics.mean_absolute_error(ground_truth, pred)\n",
    "    r2 = metrics.r2_score(ground_truth, pred)\n",
    "    \n",
    "    return rmse, mae, r2\n",
    "\n",
    "df = pd.read_csv(\"../data/winequality-red.csv\")\n",
    "\n",
    "# Split the data\n",
    "X = df.drop('quality', axis = 1)\n",
    "y = df['quality']\n",
    "\n",
    "X_train, X_test, y_train, y_test = train_test_split(X, y, test_size=0.25, random_state=43)\n",
    "X_train.shape\n",
    "\n",
    "\n",
    "############ mlflow training\n",
    "\n",
    "experiment_name = \"Experiment-2\"\n",
    "current_run_name = \"log model v3\"\n",
    "artifact_location = \"/Users/saumyagoyal/JupyterNotebook/MLCon/MLCon_23/1_mlflow/artifact_store2\"\n",
    "\n",
    "tags = {\n",
    "    \"Demo\":\"True\",\n",
    "    \"Created by\": \"User1\"\n",
    "}\n",
    "\n",
    "# mlflow.create_experiment(experiment_name,artifact_location)\n",
    "mlflow.set_experiment(experiment_name)\n",
    "\n",
    "with mlflow.start_run(run_name = current_run_name):\n",
    "    \n",
    "    # Training model\n",
    "    alpha = 0.1\n",
    "    l1 = 0.5\n",
    "    lr = ElasticNet(alpha=alpha, l1_ratio=l1)\n",
    "    lr.fit(X_train, y_train)\n",
    "    \n",
    "    y_pred = lr.predict(X_train)\n",
    "\n",
    "    rmse, mae, r2 = eval_metrics(y_train, y_pred)\n",
    "    print(f\"Training metrics: \\nRMSE:{rmse} \\nMAE:{mae} \\nR2:{r2}\")\n",
    "    \n",
    "    mlflow.log_param(\"Alpha\", alpha)\n",
    "    mlflow.log_param(\"L1 ratio\", l1)\n",
    "    \n",
    "    mlflow.log_metric(\"RMSE\", rmse)\n",
    "    mlflow.log_metric(\"MAE\", mae)\n",
    "    \n",
    "    mlflow.set_tags(tags)\n",
    "    \n",
    "    mlflow.sklearn.log_model(lr, \"Linear regression model - 1\")\n"
   ]
  },
  {
   "cell_type": "markdown",
   "id": "eff058a0",
   "metadata": {},
   "source": [
    "### END"
   ]
  }
 ],
 "metadata": {
  "kernelspec": {
   "display_name": "Python 3.11.4 64-bit",
   "language": "python",
   "name": "python3"
  },
  "language_info": {
   "codemirror_mode": {
    "name": "ipython",
    "version": 3
   },
   "file_extension": ".py",
   "mimetype": "text/x-python",
   "name": "python",
   "nbconvert_exporter": "python",
   "pygments_lexer": "ipython3",
   "version": "3.11.4"
  },
  "vscode": {
   "interpreter": {
    "hash": "aee8b7b246df8f9039afb4144a1f6fd8d2ca17a180786b69acc140d282b71a49"
   }
  }
 },
 "nbformat": 4,
 "nbformat_minor": 5
}
