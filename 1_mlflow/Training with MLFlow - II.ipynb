{
 "cells": [
  {
   "cell_type": "code",
   "execution_count": null,
   "id": "ea4c6964",
   "metadata": {},
   "outputs": [],
   "source": [
    "# install sqlite3 - backend store\n",
    "\n",
    "# !pip install pysqlite3"
   ]
  },
  {
   "cell_type": "code",
   "execution_count": null,
   "id": "67e84591",
   "metadata": {},
   "outputs": [],
   "source": [
    "### Logging model\n",
    "\n",
    "### adding Artifac location\n",
    "\n",
    "import mlflow\n",
    "import pandas as pd\n",
    "import numpy as np\n",
    "\n",
    "from sklearn.linear_model import ElasticNet\n",
    "from sklearn.model_selection import train_test_split\n",
    "from sklearn import metrics\n",
    "\n",
    "import matplotlib.pyplot as plt\n",
    "import seaborn as sns\n",
    "\n",
    "\n",
    "def eval_metrics(ground_truth, pred):\n",
    "    \n",
    "    rmse = metrics.mean_squared_error(ground_truth, pred, squared=False)\n",
    "    mae = metrics.mean_absolute_error(ground_truth, pred)\n",
    "    r2 = metrics.r2_score(ground_truth, pred)\n",
    "    \n",
    "    return rmse, mae, r2\n",
    "\n",
    "df = pd.read_csv(\"../data/winequality-red.csv\")\n",
    "\n",
    "# Split the data\n",
    "X = df.drop('quality', axis = 1)\n",
    "y = df['quality']\n",
    "\n",
    "X_train, X_test, y_train, y_test = train_test_split(X, y, test_size=0.25, random_state=43)\n",
    "X_train.shape\n",
    "\n",
    "\n",
    "############ mlflow training\n",
    "\n",
    "experiment_name = \"Experiment-1\"\n",
    "current_run_name = \"logging in a new URI - v2\"\n",
    "artifact_location = \"/Users/saumyagoyal/JupyterNotebook/MLCon/MLCon_23/1_mlflow/artifact_store2\"\n",
    "backend_store_path = \"/Users/saumyagoyal/JupyterNotebook/MLCon/MLCon_23/1_mlflow/backend_store/backend_store.db\"\n",
    "\n",
    "db_uri = \"sqlite:///\" + backend_store_path\n",
    "\n",
    "# set the tracking and registry uri\n",
    "\n",
    "mlflow.set_registry_uri(db_uri)\n",
    "mlflow.set_tracking_uri(db_uri)\n",
    "\n",
    "tags = {\n",
    "    \"Demo\":\"True\",\n",
    "    \"Created by\": \"User1\"\n",
    "}\n",
    "\n",
    "mlflow.create_experiment(experiment_name,artifact_location)\n",
    "mlflow.set_experiment(experiment_name)\n",
    "\n",
    "with mlflow.start_run(run_name = current_run_name):\n",
    "    \n",
    "    # Training model\n",
    "    alpha = 0.1\n",
    "    l1 = 0.5\n",
    "    lr = ElasticNet(alpha=alpha, l1_ratio=l1)\n",
    "    lr.fit(X_train, y_train)\n",
    "    \n",
    "    y_pred = lr.predict(X_train)\n",
    "\n",
    "    rmse, mae, r2 = eval_metrics(y_train, y_pred)\n",
    "    print(f\"Training metrics: \\nRMSE:{rmse} \\nMAE:{mae} \\nR2:{r2}\")\n",
    "    \n",
    "    mlflow.log_param(\"Alpha\", alpha)\n",
    "    mlflow.log_param(\"L1 ratio\", l1)\n",
    "    \n",
    "    mlflow.log_metric(\"RMSE\", rmse)\n",
    "    mlflow.log_metric(\"MAE\", mae)\n",
    "    \n",
    "    mlflow.set_tags(tags)\n",
    "    \n",
    "    mlflow.sklearn.log_model(lr, \"Linear regression model - 1\")\n"
   ]
  },
  {
   "cell_type": "markdown",
   "id": "3d1872e2",
   "metadata": {},
   "source": [
    "mlflow server --default-artifact-root /Users/saumyagoyal/JupyterNotebook/MLCon/MLCon_23/1_mlflow/artifact_store2 --backend-store-uri sqlite:////Users/saumyagoyal/JupyterNotebook/MLCon/MLCon_23/1_mlflow/backend_store/new_backend_store.db --host 127.0.0.1 --port 5500 >> server_log.txt"
   ]
  },
  {
   "cell_type": "markdown",
   "id": "dcbbd18e",
   "metadata": {},
   "source": [
    "Issues that may arize: Backend store is not out of date\n",
    "- Backend store is not out of date (happends due to sqlalchemy)\n",
    "    - solution: run mlflow db upgrade <database_uri>, \n",
    "    ```mlflow db upgrade sqlite:////Users/saumyagoyal/JupyterNotebook/MLCon/MLCon_23/1_mlflow/backend_store/new_backend_store.db```\n",
    "- If the above does not solve the problem then, create a new DB within the same folder\n",
    "```new_backend_store.db```\n",
    "- And change the value of backend store variable in the above code, so that it points to the correct database   "
   ]
  },
  {
   "cell_type": "markdown",
   "id": "b50735f0",
   "metadata": {},
   "source": [
    "### END"
   ]
  }
 ],
 "metadata": {
  "kernelspec": {
   "display_name": "Python 3 (ipykernel)",
   "language": "python",
   "name": "python3"
  },
  "language_info": {
   "codemirror_mode": {
    "name": "ipython",
    "version": 3
   },
   "file_extension": ".py",
   "mimetype": "text/x-python",
   "name": "python",
   "nbconvert_exporter": "python",
   "pygments_lexer": "ipython3",
   "version": "3.9.6"
  }
 },
 "nbformat": 4,
 "nbformat_minor": 5
}
