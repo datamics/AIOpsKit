{
 "cells": [
  {
   "cell_type": "code",
   "execution_count": 3,
   "id": "983718c9",
   "metadata": {},
   "outputs": [
    {
     "data": {
      "text/plain": [
       "'/Users/saumyagoyal/JupyterNotebook/MLCon/MLCon_24S/MLCon/2_FiftyOne'"
      ]
     },
     "execution_count": 3,
     "metadata": {},
     "output_type": "execute_result"
    }
   ],
   "source": [
    "import os\n",
    "\n",
    "cwd = os.getcwd()\n",
    "cwd"
   ]
  },
  {
   "cell_type": "code",
   "execution_count": 4,
   "id": "643c2811",
   "metadata": {},
   "outputs": [
    {
     "data": {
      "text/plain": [
       "environ{'TERM_SESSION_ID': 'w0t0p0:A0B6C18F-6CBD-4F67-9C55-DF1E2723F4E9',\n",
       "        'SSH_AUTH_SOCK': '/private/tmp/com.apple.launchd.i2TUtL9O5X/Listeners',\n",
       "        'LC_TERMINAL_VERSION': '3.5.1',\n",
       "        'COLORFGBG': '7;0',\n",
       "        'ITERM_PROFILE': 'Default',\n",
       "        'XPC_FLAGS': '0x0',\n",
       "        'LANG': 'en_US.UTF-8',\n",
       "        'PWD': '/Users/saumyagoyal',\n",
       "        'SHELL': '/bin/zsh',\n",
       "        '__CFBundleIdentifier': 'com.googlecode.iterm2',\n",
       "        'TERM_FEATURES': 'T3LrMSc7UUw9Ts3BFGsSyHNoSxF',\n",
       "        'TERM_PROGRAM_VERSION': '3.5.1',\n",
       "        'TERM_PROGRAM': 'iTerm.app',\n",
       "        'PATH': '/Library/Frameworks/Python.framework/Versions/3.11/bin:/usr/local/bin:/usr/bin:/bin:/usr/sbin:/sbin:/Users/saumyagoyal/Library/Python/3.9/bin:/var/run/com.apple.security.cryptexd/codex.system/bootstrap/usr/local/bin:/var/run/com.apple.security.cryptexd/codex.system/bootstrap/usr/bin:/var/run/com.apple.security.cryptexd/codex.system/bootstrap/usr/appleinternal/bin:/Library/TeX/texbin:/Applications/iTerm.app/Contents/Resources/utilities',\n",
       "        'LC_TERMINAL': 'iTerm2',\n",
       "        'COLORTERM': 'truecolor',\n",
       "        'COMMAND_MODE': 'unix2003',\n",
       "        'TERM': 'xterm-color',\n",
       "        'TERMINFO_DIRS': '/Applications/iTerm.app/Contents/Resources/terminfo:/usr/share/terminfo',\n",
       "        'HOME': '/Users/saumyagoyal',\n",
       "        'TMPDIR': '/var/folders/cm/7f6kgxhn6qgb2r_wq92h422h0000gn/T/',\n",
       "        'USER': 'saumyagoyal',\n",
       "        'XPC_SERVICE_NAME': '0',\n",
       "        'LOGNAME': 'saumyagoyal',\n",
       "        'ITERM_SESSION_ID': 'w0t0p0:A0B6C18F-6CBD-4F67-9C55-DF1E2723F4E9',\n",
       "        '__CF_USER_TEXT_ENCODING': '0x1F5:0x0:0x0',\n",
       "        'SHLVL': '1',\n",
       "        'OLDPWD': '/Users/saumyagoyal',\n",
       "        'P9K_TTY': 'old',\n",
       "        '_P9K_TTY': '/dev/ttys000',\n",
       "        'ZSH': '/Users/saumyagoyal/.oh-my-zsh',\n",
       "        'PAGER': 'cat',\n",
       "        'LESS': '-R',\n",
       "        'LSCOLORS': 'Gxfxcxdxbxegedabagacad',\n",
       "        'LS_COLORS': 'di=1;36:ln=35:so=32:pi=33:ex=31:bd=34;46:cd=34;43:su=30;41:sg=30;46:tw=30;42:ow=30;43',\n",
       "        'P9K_SSH': '0',\n",
       "        '_': '/Library/Frameworks/Python.framework/Versions/3.11/bin/jupyter',\n",
       "        'JPY_PARENT_PID': '41817',\n",
       "        'CLICOLOR': '1',\n",
       "        'GIT_PAGER': 'cat',\n",
       "        'MPLBACKEND': 'module://matplotlib_inline.backend_inline',\n",
       "        'FIFTYONE_DATABASE_DIR': '/Users/saumyagoyal/JupyterNotebook/MLCon/MLCon_24S/MLCon/2_FiftyOne/fiftyone_root/db',\n",
       "        'FIFTYONE_DEFAULT_DATASET_DIR': '/Users/saumyagoyal/JupyterNotebook/MLCon/MLCon_24S/MLCon/2_FiftyOne/fiftyone_root/default',\n",
       "        'FIFTYONE_DATASET_ZOO_DIR': '/Users/saumyagoyal/JupyterNotebook/MLCon/MLCon_24S/MLCon/2_FiftyOne/fiftyone_root/datasets',\n",
       "        'FIFTYONE_MODEL_ZOO_DIR': '/Users/saumyagoyal/JupyterNotebook/MLCon/MLCon_24S/MLCon/2_FiftyOne/fiftyone_root/models',\n",
       "        'FIFTYONE_ANNOTATION_DEFAULT_BACKEND': 'labelstudio',\n",
       "        'FIFTYONE_DO_NOT_TRACK': 'true'}"
      ]
     },
     "execution_count": 4,
     "metadata": {},
     "output_type": "execute_result"
    }
   ],
   "source": [
    "ROOT_DIR = f\"{cwd}/fiftyone_root\"\n",
    "os.environ[\"FIFTYONE_DATABASE_DIR\"] = f\"{ROOT_DIR}/db\"\n",
    "os.environ[\"FIFTYONE_DEFAULT_DATASET_DIR\"] = f\"{ROOT_DIR}/default\"\n",
    "os.environ[\"FIFTYONE_DATASET_ZOO_DIR\"] = f\"{ROOT_DIR}/datasets\"\n",
    "os.environ[\"FIFTYONE_MODEL_ZOO_DIR\"] = f\"{ROOT_DIR}/models\"\n",
    "os.environ[\"FIFTYONE_ANNOTATION_DEFAULT_BACKEND\"] = \"labelstudio\"\n",
    "# os.environ[\"FIFTYONE_ANNOTATION_DEFAULT_BACKEND\"] = \"labelstudio\"  -- add LS URL\n",
    "os.environ[\"FIFTYONE_DO_NOT_TRACK\"] = \"true\"\n",
    "\n",
    "os.environ"
   ]
  },
  {
   "cell_type": "code",
   "execution_count": 5,
   "id": "25335ab1",
   "metadata": {},
   "outputs": [],
   "source": [
    "# Start working with fiftyone"
   ]
  },
  {
   "cell_type": "code",
   "execution_count": null,
   "id": "bcaa5998",
   "metadata": {},
   "outputs": [],
   "source": []
  },
  {
   "cell_type": "code",
   "execution_count": 1,
   "id": "74dcd70f",
   "metadata": {},
   "outputs": [],
   "source": [
    "import fiftyone as fo\n",
    "import fiftyone.zoo as foz\n",
    "import fiftyone.brain as fob"
   ]
  },
  {
   "cell_type": "code",
   "execution_count": 8,
   "id": "3ef9158b",
   "metadata": {},
   "outputs": [],
   "source": [
    "# getting the quickstart data"
   ]
  },
  {
   "cell_type": "code",
   "execution_count": 10,
   "id": "c422b282",
   "metadata": {},
   "outputs": [
    {
     "data": {
      "text/plain": [
       "{\n",
       "    \"batcher_static_size\": 100,\n",
       "    \"batcher_target_latency\": 0.2,\n",
       "    \"batcher_target_size_bytes\": 1048576,\n",
       "    \"database_admin\": true,\n",
       "    \"database_dir\": \"/Users/saumyagoyal/JupyterNotebook/MLCon/MLCon_24S/MLCon/2_FiftyOne/fiftyone_root/db\",\n",
       "    \"database_name\": \"fiftyone\",\n",
       "    \"database_uri\": null,\n",
       "    \"database_validation\": true,\n",
       "    \"dataset_zoo_dir\": \"/Users/saumyagoyal/JupyterNotebook/MLCon/MLCon_24S/MLCon/2_FiftyOne/fiftyone_root/datasets\",\n",
       "    \"dataset_zoo_manifest_paths\": null,\n",
       "    \"default_app_address\": \"localhost\",\n",
       "    \"default_app_port\": 5151,\n",
       "    \"default_batch_size\": null,\n",
       "    \"default_batcher\": \"latency\",\n",
       "    \"default_dataset_dir\": \"/Users/saumyagoyal/JupyterNotebook/MLCon/MLCon_24S/MLCon/2_FiftyOne/fiftyone_root/default\",\n",
       "    \"default_image_ext\": \".jpg\",\n",
       "    \"default_ml_backend\": \"torch\",\n",
       "    \"default_sequence_idx\": \"%06d\",\n",
       "    \"default_video_ext\": \".mp4\",\n",
       "    \"desktop_app\": false,\n",
       "    \"do_not_track\": true,\n",
       "    \"logging_level\": \"INFO\",\n",
       "    \"max_process_pool_workers\": null,\n",
       "    \"max_thread_pool_workers\": null,\n",
       "    \"model_zoo_dir\": \"/Users/saumyagoyal/JupyterNotebook/MLCon/MLCon_24S/MLCon/2_FiftyOne/fiftyone_root/models\",\n",
       "    \"model_zoo_manifest_paths\": null,\n",
       "    \"module_path\": null,\n",
       "    \"operator_timeout\": 600,\n",
       "    \"plugins_cache_enabled\": false,\n",
       "    \"plugins_dir\": \"/Users/saumyagoyal/JupyterNotebook/MLCon/MLCon_24S/MLCon/2_FiftyOne/fiftyone_root/default/__plugins__\",\n",
       "    \"requirement_error_level\": 0,\n",
       "    \"show_progress_bars\": true,\n",
       "    \"timezone\": null\n",
       "}"
      ]
     },
     "execution_count": 10,
     "metadata": {},
     "output_type": "execute_result"
    }
   ],
   "source": [
    "fo.config"
   ]
  },
  {
   "cell_type": "code",
   "execution_count": 9,
   "id": "cd2756cd",
   "metadata": {},
   "outputs": [
    {
     "name": "stdout",
     "output_type": "stream",
     "text": [
      "Downloading dataset to '/Users/saumyagoyal/JupyterNotebook/MLCon/MLCon_24S/MLCon/2_FiftyOne/fiftyone_root/datasets/quickstart'\n",
      "Downloading dataset...\n",
      " 100% |████|  187.5Mb/187.5Mb [721.1ms elapsed, 0s remaining, 260.1Mb/s]      \n",
      "Extracting dataset...\n",
      "Parsing dataset metadata\n",
      "Found 200 samples\n",
      "Dataset info written to '/Users/saumyagoyal/JupyterNotebook/MLCon/MLCon_24S/MLCon/2_FiftyOne/fiftyone_root/datasets/quickstart/info.json'\n",
      "Migrating database to v0.24.1\n",
      "Loading 'quickstart'\n",
      " 100% |█████████████████| 200/200 [3.7s elapsed, 0s remaining, 47.1 samples/s]      \n",
      "Dataset 'quickstart' created\n",
      "Session launched. Run `session.show()` to open the App in a cell output.\n"
     ]
    }
   ],
   "source": [
    "dataset = foz.load_zoo_dataset(\"quickstart\")\n",
    "\n",
    "session = fo.launch_app(dataset, port = 5151, auto=False)"
   ]
  },
  {
   "cell_type": "code",
   "execution_count": 11,
   "id": "2c4b0d21",
   "metadata": {},
   "outputs": [],
   "source": [
    "# embedding projection"
   ]
  },
  {
   "cell_type": "code",
   "execution_count": 12,
   "id": "4e0acec8",
   "metadata": {},
   "outputs": [
    {
     "name": "stdout",
     "output_type": "stream",
     "text": [
      "Downloading model from 'https://download.pytorch.org/models/mobilenet_v2-b0353104.pth'...\n",
      " 100% |████|  108.4Mb/108.4Mb [733.1ms elapsed, 0s remaining, 147.9Mb/s]      \n",
      "Computing embeddings...\n",
      " 100% |█████████████████| 200/200 [33.3s elapsed, 0s remaining, 5.6 samples/s]      \n",
      "Generating visualization...\n",
      "UMAP( verbose=True)\n",
      "Fri Jun 28 14:31:55 2024 Construct fuzzy simplicial set\n",
      "Fri Jun 28 14:31:55 2024 Finding Nearest Neighbors\n",
      "Fri Jun 28 14:31:57 2024 Finished Nearest Neighbor Search\n",
      "Fri Jun 28 14:31:59 2024 Construct embedding\n"
     ]
    },
    {
     "data": {
      "application/vnd.jupyter.widget-view+json": {
       "model_id": "c089fc1ba41a48bfa5830f89f97d5af6",
       "version_major": 2,
       "version_minor": 0
      },
      "text/plain": [
       "Epochs completed:   0%|            0/500 [00:00]"
      ]
     },
     "metadata": {},
     "output_type": "display_data"
    },
    {
     "name": "stdout",
     "output_type": "stream",
     "text": [
      "\tcompleted  0  /  500 epochs\n",
      "\tcompleted  50  /  500 epochs\n",
      "\tcompleted  100  /  500 epochs\n",
      "\tcompleted  150  /  500 epochs\n",
      "\tcompleted  200  /  500 epochs\n",
      "\tcompleted  250  /  500 epochs\n",
      "\tcompleted  300  /  500 epochs\n",
      "\tcompleted  350  /  500 epochs\n",
      "\tcompleted  400  /  500 epochs\n",
      "\tcompleted  450  /  500 epochs\n",
      "Fri Jun 28 14:32:01 2024 Finished embedding\n"
     ]
    },
    {
     "data": {
      "text/plain": [
       "<fiftyone.brain.visualization.VisualizationResults at 0x1567a3ee0>"
      ]
     },
     "execution_count": 12,
     "metadata": {},
     "output_type": "execute_result"
    }
   ],
   "source": [
    "fob.compute_visualization(dataset, brain_key=\"img_viz\")"
   ]
  },
  {
   "cell_type": "code",
   "execution_count": 13,
   "id": "02fcd36e",
   "metadata": {},
   "outputs": [],
   "source": [
    "session.refresh()"
   ]
  },
  {
   "cell_type": "code",
   "execution_count": 14,
   "id": "8e2de539",
   "metadata": {},
   "outputs": [],
   "source": [
    "#### text to image and similarity"
   ]
  },
  {
   "cell_type": "code",
   "execution_count": 15,
   "id": "ab8739fc",
   "metadata": {},
   "outputs": [
    {
     "name": "stdout",
     "output_type": "stream",
     "text": [
      "Downloading model from 'https://openaipublic.azureedge.net/clip/models/40d365715913c9da98579312b702a82c18be219cc2a73407c4526f58eba950af/ViT-B-32.pt'...\n",
      " 100% |██████|    2.6Gb/2.6Gb [1.6m elapsed, 0s remaining, 78.7Mb/s]      \n",
      "Downloading CLIP tokenizer...\n",
      " 100% |█████|   10.4Mb/10.4Mb [119.6ms elapsed, 0s remaining, 86.6Mb/s]     \n",
      "Computing embeddings...\n",
      " 100% |█████████████████| 200/200 [29.7s elapsed, 0s remaining, 7.1 samples/s]      \n"
     ]
    },
    {
     "data": {
      "text/plain": [
       "<fiftyone.brain.internal.core.sklearn.SklearnSimilarityIndex at 0x16c1025b0>"
      ]
     },
     "execution_count": 15,
     "metadata": {},
     "output_type": "execute_result"
    }
   ],
   "source": [
    "fob.compute_similarity(dataset, model = \"clip-vit-base32-torch\", brain_key=\"img_sim\")"
   ]
  },
  {
   "cell_type": "code",
   "execution_count": 16,
   "id": "7a6a37c8",
   "metadata": {},
   "outputs": [],
   "source": [
    "session.refresh()"
   ]
  },
  {
   "cell_type": "code",
   "execution_count": null,
   "id": "7d84440f",
   "metadata": {},
   "outputs": [],
   "source": []
  }
 ],
 "metadata": {
  "kernelspec": {
   "display_name": "Python 3 (ipykernel)",
   "language": "python",
   "name": "python3"
  },
  "language_info": {
   "codemirror_mode": {
    "name": "ipython",
    "version": 3
   },
   "file_extension": ".py",
   "mimetype": "text/x-python",
   "name": "python",
   "nbconvert_exporter": "python",
   "pygments_lexer": "ipython3",
   "version": "3.9.6"
  }
 },
 "nbformat": 4,
 "nbformat_minor": 5
}
