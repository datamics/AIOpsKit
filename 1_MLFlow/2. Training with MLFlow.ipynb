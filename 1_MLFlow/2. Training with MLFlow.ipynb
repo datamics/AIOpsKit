{
 "cells": [
  {
   "cell_type": "code",
   "execution_count": 1,
   "id": "1c64070b",
   "metadata": {},
   "outputs": [],
   "source": [
    "# !pip install pandas seaborn scikit-learn"
   ]
  },
  {
   "cell_type": "code",
   "execution_count": 4,
   "id": "dbd183cd",
   "metadata": {},
   "outputs": [],
   "source": [
    "import numpy as np\n",
    "import pandas as pd\n",
    "\n",
    "from sklearn.linear_model import ElasticNet\n",
    "from sklearn.model_selection import train_test_split\n",
    "from sklearn import metrics\n",
    "\n",
    "import matplotlib.pyplot as plt\n",
    "%matplotlib inline\n",
    "import seaborn as sns"
   ]
  },
  {
   "cell_type": "code",
   "execution_count": 5,
   "id": "f1f9d527",
   "metadata": {},
   "outputs": [],
   "source": [
    "## Loading data"
   ]
  },
  {
   "cell_type": "code",
   "execution_count": 6,
   "id": "ee6b5090",
   "metadata": {},
   "outputs": [],
   "source": [
    "df = pd.read_csv(\"../data/winequality.csv\")"
   ]
  },
  {
   "cell_type": "code",
   "execution_count": 7,
   "id": "cbe84a01",
   "metadata": {},
   "outputs": [
    {
     "data": {
      "text/html": [
       "<div>\n",
       "<style scoped>\n",
       "    .dataframe tbody tr th:only-of-type {\n",
       "        vertical-align: middle;\n",
       "    }\n",
       "\n",
       "    .dataframe tbody tr th {\n",
       "        vertical-align: top;\n",
       "    }\n",
       "\n",
       "    .dataframe thead th {\n",
       "        text-align: right;\n",
       "    }\n",
       "</style>\n",
       "<table border=\"1\" class=\"dataframe\">\n",
       "  <thead>\n",
       "    <tr style=\"text-align: right;\">\n",
       "      <th></th>\n",
       "      <th>fixed acidity</th>\n",
       "      <th>volatile acidity</th>\n",
       "      <th>citric acid</th>\n",
       "      <th>residual sugar</th>\n",
       "      <th>chlorides</th>\n",
       "      <th>free sulfur dioxide</th>\n",
       "      <th>total sulfur dioxide</th>\n",
       "      <th>density</th>\n",
       "      <th>pH</th>\n",
       "      <th>sulphates</th>\n",
       "      <th>alcohol</th>\n",
       "      <th>quality</th>\n",
       "    </tr>\n",
       "  </thead>\n",
       "  <tbody>\n",
       "    <tr>\n",
       "      <th>0</th>\n",
       "      <td>7.4</td>\n",
       "      <td>0.70</td>\n",
       "      <td>0.00</td>\n",
       "      <td>1.9</td>\n",
       "      <td>0.076</td>\n",
       "      <td>11.0</td>\n",
       "      <td>34.0</td>\n",
       "      <td>0.9978</td>\n",
       "      <td>3.51</td>\n",
       "      <td>0.56</td>\n",
       "      <td>9.4</td>\n",
       "      <td>5</td>\n",
       "    </tr>\n",
       "    <tr>\n",
       "      <th>1</th>\n",
       "      <td>7.8</td>\n",
       "      <td>0.88</td>\n",
       "      <td>0.00</td>\n",
       "      <td>2.6</td>\n",
       "      <td>0.098</td>\n",
       "      <td>25.0</td>\n",
       "      <td>67.0</td>\n",
       "      <td>0.9968</td>\n",
       "      <td>3.20</td>\n",
       "      <td>0.68</td>\n",
       "      <td>9.8</td>\n",
       "      <td>5</td>\n",
       "    </tr>\n",
       "    <tr>\n",
       "      <th>2</th>\n",
       "      <td>7.8</td>\n",
       "      <td>0.76</td>\n",
       "      <td>0.04</td>\n",
       "      <td>2.3</td>\n",
       "      <td>0.092</td>\n",
       "      <td>15.0</td>\n",
       "      <td>54.0</td>\n",
       "      <td>0.9970</td>\n",
       "      <td>3.26</td>\n",
       "      <td>0.65</td>\n",
       "      <td>9.8</td>\n",
       "      <td>5</td>\n",
       "    </tr>\n",
       "    <tr>\n",
       "      <th>3</th>\n",
       "      <td>11.2</td>\n",
       "      <td>0.28</td>\n",
       "      <td>0.56</td>\n",
       "      <td>1.9</td>\n",
       "      <td>0.075</td>\n",
       "      <td>17.0</td>\n",
       "      <td>60.0</td>\n",
       "      <td>0.9980</td>\n",
       "      <td>3.16</td>\n",
       "      <td>0.58</td>\n",
       "      <td>9.8</td>\n",
       "      <td>6</td>\n",
       "    </tr>\n",
       "    <tr>\n",
       "      <th>4</th>\n",
       "      <td>7.4</td>\n",
       "      <td>0.70</td>\n",
       "      <td>0.00</td>\n",
       "      <td>1.9</td>\n",
       "      <td>0.076</td>\n",
       "      <td>11.0</td>\n",
       "      <td>34.0</td>\n",
       "      <td>0.9978</td>\n",
       "      <td>3.51</td>\n",
       "      <td>0.56</td>\n",
       "      <td>9.4</td>\n",
       "      <td>5</td>\n",
       "    </tr>\n",
       "  </tbody>\n",
       "</table>\n",
       "</div>"
      ],
      "text/plain": [
       "   fixed acidity  volatile acidity  citric acid  residual sugar  chlorides  \\\n",
       "0            7.4              0.70         0.00             1.9      0.076   \n",
       "1            7.8              0.88         0.00             2.6      0.098   \n",
       "2            7.8              0.76         0.04             2.3      0.092   \n",
       "3           11.2              0.28         0.56             1.9      0.075   \n",
       "4            7.4              0.70         0.00             1.9      0.076   \n",
       "\n",
       "   free sulfur dioxide  total sulfur dioxide  density    pH  sulphates  \\\n",
       "0                 11.0                  34.0   0.9978  3.51       0.56   \n",
       "1                 25.0                  67.0   0.9968  3.20       0.68   \n",
       "2                 15.0                  54.0   0.9970  3.26       0.65   \n",
       "3                 17.0                  60.0   0.9980  3.16       0.58   \n",
       "4                 11.0                  34.0   0.9978  3.51       0.56   \n",
       "\n",
       "   alcohol  quality  \n",
       "0      9.4        5  \n",
       "1      9.8        5  \n",
       "2      9.8        5  \n",
       "3      9.8        6  \n",
       "4      9.4        5  "
      ]
     },
     "execution_count": 7,
     "metadata": {},
     "output_type": "execute_result"
    }
   ],
   "source": [
    "df.head()"
   ]
  },
  {
   "cell_type": "code",
   "execution_count": 8,
   "id": "022756d3",
   "metadata": {},
   "outputs": [
    {
     "name": "stdout",
     "output_type": "stream",
     "text": [
      "<class 'pandas.core.frame.DataFrame'>\n",
      "RangeIndex: 1599 entries, 0 to 1598\n",
      "Data columns (total 12 columns):\n",
      " #   Column                Non-Null Count  Dtype  \n",
      "---  ------                --------------  -----  \n",
      " 0   fixed acidity         1599 non-null   float64\n",
      " 1   volatile acidity      1599 non-null   float64\n",
      " 2   citric acid           1599 non-null   float64\n",
      " 3   residual sugar        1599 non-null   float64\n",
      " 4   chlorides             1599 non-null   float64\n",
      " 5   free sulfur dioxide   1599 non-null   float64\n",
      " 6   total sulfur dioxide  1599 non-null   float64\n",
      " 7   density               1599 non-null   float64\n",
      " 8   pH                    1599 non-null   float64\n",
      " 9   sulphates             1599 non-null   float64\n",
      " 10  alcohol               1599 non-null   float64\n",
      " 11  quality               1599 non-null   int64  \n",
      "dtypes: float64(11), int64(1)\n",
      "memory usage: 150.0 KB\n"
     ]
    }
   ],
   "source": [
    "df.info()"
   ]
  },
  {
   "cell_type": "code",
   "execution_count": 9,
   "id": "604b3df8",
   "metadata": {},
   "outputs": [
    {
     "data": {
      "text/plain": [
       "<matplotlib.axes._subplots.AxesSubplot at 0x13bb7a610>"
      ]
     },
     "execution_count": 9,
     "metadata": {},
     "output_type": "execute_result"
    },
    {
     "data": {
      "image/png": "[encoded data removed]",
      "text/plain": [
       "<Figure size 640x480 with 1 Axes>"
      ]
     },
     "metadata": {},
     "output_type": "display_data"
    }
   ],
   "source": [
    "sns.histplot(df['quality'])"
   ]
  },
  {
   "cell_type": "code",
   "execution_count": 11,
   "id": "30ca8552",
   "metadata": {},
   "outputs": [
    {
     "data": {
      "text/plain": [
       "<matplotlib.axes._subplots.AxesSubplot at 0x13f80d3a0>"
      ]
     },
     "execution_count": 11,
     "metadata": {},
     "output_type": "execute_result"
    },
    {
     "data": {
      "image/png": "[encoded data removed]",
      "text/plain": [
       "<Figure size 600x500 with 2 Axes>"
      ]
     },
     "metadata": {},
     "output_type": "display_data"
    }
   ],
   "source": [
    "corr = df.corr()\n",
    "f,ax = plt.subplots(figsize =(6,5))\n",
    "\n",
    "sns.heatmap(corr, cmap = 'Blues', center = 0, square=True, linewidths=.5)"
   ]
  },
  {
   "cell_type": "code",
   "execution_count": 12,
   "id": "efeaba58",
   "metadata": {},
   "outputs": [],
   "source": [
    "## Split data"
   ]
  },
  {
   "cell_type": "code",
   "execution_count": 13,
   "id": "9996656f",
   "metadata": {},
   "outputs": [],
   "source": [
    "X = df.drop('quality', axis = 1)\n",
    "y = df['quality']"
   ]
  },
  {
   "cell_type": "code",
   "execution_count": 14,
   "id": "c116fdd2",
   "metadata": {},
   "outputs": [],
   "source": [
    "X_train, X_test, y_train, y_test = train_test_split(X, y, test_size=0.25, random_state=43)"
   ]
  },
  {
   "cell_type": "code",
   "execution_count": 15,
   "id": "be0d6bf5",
   "metadata": {},
   "outputs": [
    {
     "data": {
      "text/plain": [
       "(1199, 11)"
      ]
     },
     "execution_count": 15,
     "metadata": {},
     "output_type": "execute_result"
    }
   ],
   "source": [
    "X_train.shape"
   ]
  },
  {
   "cell_type": "code",
   "execution_count": 16,
   "id": "04f428f2",
   "metadata": {},
   "outputs": [
    {
     "data": {
      "text/plain": [
       "(400, 11)"
      ]
     },
     "execution_count": 16,
     "metadata": {},
     "output_type": "execute_result"
    }
   ],
   "source": [
    "X_test.shape"
   ]
  },
  {
   "cell_type": "code",
   "execution_count": 17,
   "id": "3dbfd5a0",
   "metadata": {},
   "outputs": [],
   "source": [
    "## Training"
   ]
  },
  {
   "cell_type": "code",
   "execution_count": 18,
   "id": "70f406a7",
   "metadata": {},
   "outputs": [],
   "source": [
    "alpha = 0.5\n",
    "l1 = 0.5\n",
    "\n",
    "lr = ElasticNet(alpha = alpha, l1_ratio = l1)"
   ]
  },
  {
   "cell_type": "code",
   "execution_count": 19,
   "id": "a69d4cf6",
   "metadata": {},
   "outputs": [
    {
     "data": {
      "text/html": [
       "<style>#sk-container-id-1 {color: black;background-color: white;}#sk-container-id-1 pre{padding: 0;}#sk-container-id-1 div.sk-toggleable {background-color: white;}#sk-container-id-1 label.sk-toggleable__label {cursor: pointer;display: block;width: 100%;margin-bottom: 0;padding: 0.3em;box-sizing: border-box;text-align: center;}#sk-container-id-1 label.sk-toggleable__label-arrow:before {content: \"▸\";float: left;margin-right: 0.25em;color: #696969;}#sk-container-id-1 label.sk-toggleable__label-arrow:hover:before {color: black;}#sk-container-id-1 div.sk-estimator:hover label.sk-toggleable__label-arrow:before {color: black;}#sk-container-id-1 div.sk-toggleable__content {max-height: 0;max-width: 0;overflow: hidden;text-align: left;background-color: #f0f8ff;}#sk-container-id-1 div.sk-toggleable__content pre {margin: 0.2em;color: black;border-radius: 0.25em;background-color: #f0f8ff;}#sk-container-id-1 input.sk-toggleable__control:checked~div.sk-toggleable__content {max-height: 200px;max-width: 100%;overflow: auto;}#sk-container-id-1 input.sk-toggleable__control:checked~label.sk-toggleable__label-arrow:before {content: \"▾\";}#sk-container-id-1 div.sk-estimator input.sk-toggleable__control:checked~label.sk-toggleable__label {background-color: #d4ebff;}#sk-container-id-1 div.sk-label input.sk-toggleable__control:checked~label.sk-toggleable__label {background-color: #d4ebff;}#sk-container-id-1 input.sk-hidden--visually {border: 0;clip: rect(1px 1px 1px 1px);clip: rect(1px, 1px, 1px, 1px);height: 1px;margin: -1px;overflow: hidden;padding: 0;position: absolute;width: 1px;}#sk-container-id-1 div.sk-estimator {font-family: monospace;background-color: #f0f8ff;border: 1px dotted black;border-radius: 0.25em;box-sizing: border-box;margin-bottom: 0.5em;}#sk-container-id-1 div.sk-estimator:hover {background-color: #d4ebff;}#sk-container-id-1 div.sk-parallel-item::after {content: \"\";width: 100%;border-bottom: 1px solid gray;flex-grow: 1;}#sk-container-id-1 div.sk-label:hover label.sk-toggleable__label {background-color: #d4ebff;}#sk-container-id-1 div.sk-serial::before {content: \"\";position: absolute;border-left: 1px solid gray;box-sizing: border-box;top: 0;bottom: 0;left: 50%;z-index: 0;}#sk-container-id-1 div.sk-serial {display: flex;flex-direction: column;align-items: center;background-color: white;padding-right: 0.2em;padding-left: 0.2em;position: relative;}#sk-container-id-1 div.sk-item {position: relative;z-index: 1;}#sk-container-id-1 div.sk-parallel {display: flex;align-items: stretch;justify-content: center;background-color: white;position: relative;}#sk-container-id-1 div.sk-item::before, #sk-container-id-1 div.sk-parallel-item::before {content: \"\";position: absolute;border-left: 1px solid gray;box-sizing: border-box;top: 0;bottom: 0;left: 50%;z-index: -1;}#sk-container-id-1 div.sk-parallel-item {display: flex;flex-direction: column;z-index: 1;position: relative;background-color: white;}#sk-container-id-1 div.sk-parallel-item:first-child::after {align-self: flex-end;width: 50%;}#sk-container-id-1 div.sk-parallel-item:last-child::after {align-self: flex-start;width: 50%;}#sk-container-id-1 div.sk-parallel-item:only-child::after {width: 0;}#sk-container-id-1 div.sk-dashed-wrapped {border: 1px dashed gray;margin: 0 0.4em 0.5em 0.4em;box-sizing: border-box;padding-bottom: 0.4em;background-color: white;}#sk-container-id-1 div.sk-label label {font-family: monospace;font-weight: bold;display: inline-block;line-height: 1.2em;}#sk-container-id-1 div.sk-label-container {text-align: center;}#sk-container-id-1 div.sk-container {/* jupyter's `normalize.less` sets `[hidden] { display: none; }` but bootstrap.min.css set `[hidden] { display: none !important; }` so we also need the `!important` here to be able to override the default hidden behavior on the sphinx rendered scikit-learn.org. See: https://github.com/scikit-learn/scikit-learn/issues/21755 */display: inline-block !important;position: relative;}#sk-container-id-1 div.sk-text-repr-fallback {display: none;}</style><div id=\"sk-container-id-1\" class=\"sk-top-container\"><div class=\"sk-text-repr-fallback\"><pre>ElasticNet(alpha=0.5)</pre><b>In a Jupyter environment, please rerun this cell to show the HTML representation or trust the notebook. <br />On GitHub, the HTML representation is unable to render, please try loading this page with nbviewer.org.</b></div><div class=\"sk-container\" hidden><div class=\"sk-item\"><div class=\"sk-estimator sk-toggleable\"><input class=\"sk-toggleable__control sk-hidden--visually\" id=\"sk-estimator-id-1\" type=\"checkbox\" checked><label for=\"sk-estimator-id-1\" class=\"sk-toggleable__label sk-toggleable__label-arrow\">ElasticNet</label><div class=\"sk-toggleable__content\"><pre>ElasticNet(alpha=0.5)</pre></div></div></div></div></div>"
      ],
      "text/plain": [
       "ElasticNet(alpha=0.5)"
      ]
     },
     "execution_count": 19,
     "metadata": {},
     "output_type": "execute_result"
    }
   ],
   "source": [
    "lr.fit(X_train, y_train)"
   ]
  },
  {
   "cell_type": "code",
   "execution_count": 20,
   "id": "0d6df68e",
   "metadata": {},
   "outputs": [],
   "source": [
    "def eval_metrics(ground_truth, pred):\n",
    "    rmse = np.sqrt(metrics.mean_squared_error(ground_truth, pred))\n",
    "    mae = metrics.mean_absolute_error(ground_truth, pred)\n",
    "    r2 = metrics.r2_score(ground_truth, pred)\n",
    "    \n",
    "    return rmse, mae, r2"
   ]
  },
  {
   "cell_type": "code",
   "execution_count": 21,
   "id": "6d54eecb",
   "metadata": {},
   "outputs": [],
   "source": [
    "y_pred = lr.predict(X_test)"
   ]
  },
  {
   "cell_type": "code",
   "execution_count": 22,
   "id": "9d5a6f05",
   "metadata": {},
   "outputs": [],
   "source": [
    "(rmse, mae, r2) = eval_metrics(y_test, y_pred)"
   ]
  },
  {
   "cell_type": "code",
   "execution_count": 24,
   "id": "dec95ba5",
   "metadata": {},
   "outputs": [
    {
     "name": "stdout",
     "output_type": "stream",
     "text": [
      "Dataset: Test \n",
      "RMSE: 0.7526188072010005 \n",
      "MAE: 0.6057644119964178 \n",
      " R2:0.124444638420795\n"
     ]
    }
   ],
   "source": [
    "print(f\"Dataset: Test \\nRMSE: {rmse} \\nMAE: {mae} \\n R2:{r2}\")"
   ]
  },
  {
   "cell_type": "code",
   "execution_count": null,
   "id": "c3d94f54",
   "metadata": {},
   "outputs": [],
   "source": [
    "## Training with MLFlow "
   ]
  },
  {
   "cell_type": "code",
   "execution_count": null,
   "id": "1a7d6654",
   "metadata": {},
   "outputs": [],
   "source": [
    "import numpy as np\n",
    "import pandas as pd\n",
    "\n",
    "from sklearn.linear_model import ElasticNet\n",
    "from sklearn.model_selection import train_test_split\n",
    "from sklearn import metrics\n",
    "\n",
    "import matplotlib.pyplot as plt\n",
    "%matplotlib inline\n",
    "import seaborn as sns\n",
    "\n",
    "df = pd.read_csv(\"../data/winequality.csv\")\n",
    "\n",
    "X = df.drop('quality', axis = 1)\n",
    "y = df['quality']\n",
    "\n",
    "X_train, X_test, y_train, y_test = train_test_split(X, y, test_size=0.25, random_state=43)\n",
    "\n",
    "alpha = 0.5\n",
    "l1 = 0.5\n",
    "\n",
    "lr = ElasticNet(alpha = alpha, l1_ratio = l1)\n",
    "\n",
    "lr.fit(X_train, y_train)\n",
    "y_pred = lr.predict(X_test)\n",
    "\n",
    "def eval_metrics(ground_truth, pred):\n",
    "    rmse = np.sqrt(metrics.mean_squared_error(ground_truth, pred))\n",
    "    mae = metrics.mean_absolute_error(ground_truth, pred)\n",
    "    r2 = metrics.r2_score(ground_truth, pred)\n",
    "    \n",
    "    return rmse, mae, r2\n",
    "\n",
    "(rmse, mae, r2) = eval_metrics(y_test, y_pred)"
   ]
  },
  {
   "cell_type": "code",
   "execution_count": 26,
   "id": "e293d0ad",
   "metadata": {},
   "outputs": [],
   "source": [
    "import mlflow"
   ]
  },
  {
   "cell_type": "code",
   "execution_count": 37,
   "id": "903373a1",
   "metadata": {},
   "outputs": [],
   "source": [
    "import numpy as np\n",
    "import pandas as pd\n",
    "\n",
    "from sklearn.linear_model import ElasticNet\n",
    "from sklearn.model_selection import train_test_split\n",
    "from sklearn import metrics\n",
    "\n",
    "import matplotlib.pyplot as plt\n",
    "%matplotlib inline\n",
    "import seaborn as sns\n",
    "\n",
    "df = pd.read_csv(\"../data/winequality.csv\")\n",
    "\n",
    "X = df.drop('quality', axis = 1)\n",
    "y = df['quality']\n",
    "\n",
    "X_train, X_test, y_train, y_test = train_test_split(X, y, test_size=0.25, random_state=43)\n",
    "\n",
    "# --------------------------------------------------------------------------\n",
    "\n",
    "with mlflow.start_run():\n",
    "    \n",
    "    alpha = 0.5\n",
    "    l1 = 0.01\n",
    "\n",
    "    lr = ElasticNet(alpha = alpha, l1_ratio = l1)\n",
    "\n",
    "    lr.fit(X_train, y_train)\n",
    "    y_pred = lr.predict(X_test)\n",
    "\n",
    "    def eval_metrics(ground_truth, pred):\n",
    "        rmse = np.sqrt(metrics.mean_squared_error(ground_truth, pred))\n",
    "        mae = metrics.mean_absolute_error(ground_truth, pred)\n",
    "        r2 = metrics.r2_score(ground_truth, pred)\n",
    "\n",
    "        return rmse, mae, r2\n",
    "\n",
    "    (rmse, mae, r2) = eval_metrics(y_test, y_pred)\n",
    "\n",
    "    ## log parameter and metrics\n",
    "    \n",
    "    mlflow.log_param(\"alpha\", alpha)\n",
    "    mlflow.log_param(\"l1\", l1)\n",
    "    \n",
    "    mlflow.log_metric(\"rmse\", rmse)\n",
    "    mlflow.log_metric(\"mae\", mae)\n",
    "    mlflow.log_metric(\"r2\", r2)\n",
    "    \n"
   ]
  },
  {
   "cell_type": "code",
   "execution_count": 38,
   "id": "31e8e539",
   "metadata": {},
   "outputs": [],
   "source": [
    "### add run name, create new artifact store, create a new experiment"
   ]
  },
  {
   "cell_type": "code",
   "execution_count": 39,
   "id": "a7166284",
   "metadata": {},
   "outputs": [],
   "source": [
    "import numpy as np\n",
    "import pandas as pd\n",
    "\n",
    "from sklearn.linear_model import ElasticNet\n",
    "from sklearn.model_selection import train_test_split\n",
    "from sklearn import metrics\n",
    "\n",
    "import matplotlib.pyplot as plt\n",
    "%matplotlib inline\n",
    "import seaborn as sns\n",
    "\n",
    "df = pd.read_csv(\"../data/winequality.csv\")\n",
    "\n",
    "X = df.drop('quality', axis = 1)\n",
    "y = df['quality']\n",
    "\n",
    "X_train, X_test, y_train, y_test = train_test_split(X, y, test_size=0.25, random_state=43)\n",
    "\n",
    "# --------------------------------------------------------------------------\n",
    "\n",
    "current_name = \"first custom run\"\n",
    "\n",
    "\n",
    "with mlflow.start_run(run_name=current_name):\n",
    "    \n",
    "    alpha = 0.5\n",
    "    l1 = 0.01\n",
    "\n",
    "    lr = ElasticNet(alpha = alpha, l1_ratio = l1)\n",
    "\n",
    "    lr.fit(X_train, y_train)\n",
    "    y_pred = lr.predict(X_test)\n",
    "\n",
    "    def eval_metrics(ground_truth, pred):\n",
    "        rmse = np.sqrt(metrics.mean_squared_error(ground_truth, pred))\n",
    "        mae = metrics.mean_absolute_error(ground_truth, pred)\n",
    "        r2 = metrics.r2_score(ground_truth, pred)\n",
    "\n",
    "        return rmse, mae, r2\n",
    "\n",
    "    (rmse, mae, r2) = eval_metrics(y_test, y_pred)\n",
    "\n",
    "    ## log parameter and metrics\n",
    "    \n",
    "    mlflow.log_param(\"alpha\", alpha)\n",
    "    mlflow.log_param(\"l1\", l1)\n",
    "    \n",
    "    mlflow.log_metric(\"rmse\", rmse)\n",
    "    mlflow.log_metric(\"mae\", mae)\n",
    "    mlflow.log_metric(\"r2\", r2)\n",
    "    \n"
   ]
  },
  {
   "cell_type": "code",
   "execution_count": 40,
   "id": "9dd15fd0",
   "metadata": {},
   "outputs": [],
   "source": [
    "## add exp name"
   ]
  },
  {
   "cell_type": "code",
   "execution_count": 43,
   "id": "aa93c511",
   "metadata": {},
   "outputs": [],
   "source": [
    "import numpy as np\n",
    "import pandas as pd\n",
    "\n",
    "from sklearn.linear_model import ElasticNet\n",
    "from sklearn.model_selection import train_test_split\n",
    "from sklearn import metrics\n",
    "\n",
    "import matplotlib.pyplot as plt\n",
    "%matplotlib inline\n",
    "import seaborn as sns\n",
    "\n",
    "df = pd.read_csv(\"../data/winequality.csv\")\n",
    "\n",
    "X = df.drop('quality', axis = 1)\n",
    "y = df['quality']\n",
    "\n",
    "X_train, X_test, y_train, y_test = train_test_split(X, y, test_size=0.25, random_state=43)\n",
    "\n",
    "# --------------------------------------------------------------------------\n",
    "\n",
    "current_name = \"first custom run\"\n",
    "experiment_name = \"Experiment-1\"\n",
    "\n",
    "# mlflow.create_experiment(experiment_name)\n",
    "mlflow.set_experiment(experiment_name)\n",
    "\n",
    "\n",
    "with mlflow.start_run(run_name=current_name):\n",
    "    \n",
    "    alpha = 0.5\n",
    "    l1 = 0.01\n",
    "\n",
    "    lr = ElasticNet(alpha = alpha, l1_ratio = l1)\n",
    "\n",
    "    lr.fit(X_train, y_train)\n",
    "    y_pred = lr.predict(X_test)\n",
    "\n",
    "    def eval_metrics(ground_truth, pred):\n",
    "        rmse = np.sqrt(metrics.mean_squared_error(ground_truth, pred))\n",
    "        mae = metrics.mean_absolute_error(ground_truth, pred)\n",
    "        r2 = metrics.r2_score(ground_truth, pred)\n",
    "\n",
    "        return rmse, mae, r2\n",
    "\n",
    "    (rmse, mae, r2) = eval_metrics(y_test, y_pred)\n",
    "\n",
    "    ## log parameter and metrics\n",
    "    \n",
    "    mlflow.log_param(\"alpha\", alpha)\n",
    "    mlflow.log_param(\"l1\", l1)\n",
    "    \n",
    "    mlflow.log_metric(\"rmse\", rmse)\n",
    "    mlflow.log_metric(\"mae\", mae)\n",
    "    mlflow.log_metric(\"r2\", r2)\n",
    "    \n"
   ]
  },
  {
   "cell_type": "code",
   "execution_count": 44,
   "id": "79b8d311",
   "metadata": {},
   "outputs": [],
   "source": [
    "## add artifact store"
   ]
  },
  {
   "cell_type": "code",
   "execution_count": 47,
   "id": "c1c5902d",
   "metadata": {},
   "outputs": [],
   "source": [
    "import numpy as np\n",
    "import pandas as pd\n",
    "\n",
    "from sklearn.linear_model import ElasticNet\n",
    "from sklearn.model_selection import train_test_split\n",
    "from sklearn import metrics\n",
    "\n",
    "import matplotlib.pyplot as plt\n",
    "%matplotlib inline\n",
    "import seaborn as sns\n",
    "\n",
    "df = pd.read_csv(\"../data/winequality.csv\")\n",
    "\n",
    "X = df.drop('quality', axis = 1)\n",
    "y = df['quality']\n",
    "\n",
    "X_train, X_test, y_train, y_test = train_test_split(X, y, test_size=0.25, random_state=43)\n",
    "\n",
    "# --------------------------------------------------------------------------\n",
    "\n",
    "current_name = \"first custom run\"\n",
    "experiment_name = \"Experiment-2\"\n",
    "artifact_store = \"/Users/saumyagoyal/JupyterNotebook/MLCon/MLCon_24S/MLCon/1_MLFlow/artifact_store\"\n",
    "\n",
    "\n",
    "mlflow.create_experiment(experiment_name, artifact_location=artifact_store)\n",
    "mlflow.set_experiment(experiment_name)\n",
    "\n",
    "\n",
    "with mlflow.start_run(run_name=current_name):\n",
    "    \n",
    "    alpha = 0.5\n",
    "    l1 = 0.01\n",
    "\n",
    "    lr = ElasticNet(alpha = alpha, l1_ratio = l1)\n",
    "\n",
    "    lr.fit(X_train, y_train)\n",
    "    y_pred = lr.predict(X_test)\n",
    "\n",
    "    def eval_metrics(ground_truth, pred):\n",
    "        rmse = np.sqrt(metrics.mean_squared_error(ground_truth, pred))\n",
    "        mae = metrics.mean_absolute_error(ground_truth, pred)\n",
    "        r2 = metrics.r2_score(ground_truth, pred)\n",
    "\n",
    "        return rmse, mae, r2\n",
    "\n",
    "    (rmse, mae, r2) = eval_metrics(y_test, y_pred)\n",
    "\n",
    "    ## log parameter and metrics\n",
    "    \n",
    "    mlflow.log_param(\"alpha\", alpha)\n",
    "    mlflow.log_param(\"l1\", l1)\n",
    "    \n",
    "    mlflow.log_metric(\"rmse\", rmse)\n",
    "    mlflow.log_metric(\"mae\", mae)\n",
    "    mlflow.log_metric(\"r2\", r2)\n",
    "    \n"
   ]
  },
  {
   "cell_type": "code",
   "execution_count": 45,
   "id": "79ef5dd1",
   "metadata": {},
   "outputs": [
    {
     "data": {
      "text/plain": [
       "'/Users/saumyagoyal/JupyterNotebook/MLCon/MLCon_24S/MLCon/1_MLFlow'"
      ]
     },
     "execution_count": 45,
     "metadata": {},
     "output_type": "execute_result"
    }
   ],
   "source": [
    "pwd"
   ]
  },
  {
   "cell_type": "code",
   "execution_count": 48,
   "id": "f28ba91a",
   "metadata": {},
   "outputs": [],
   "source": [
    "### Store model"
   ]
  },
  {
   "cell_type": "code",
   "execution_count": 50,
   "id": "6af05b5a",
   "metadata": {},
   "outputs": [],
   "source": [
    "import numpy as np\n",
    "import pandas as pd\n",
    "\n",
    "from sklearn.linear_model import ElasticNet\n",
    "from sklearn.model_selection import train_test_split\n",
    "from sklearn import metrics\n",
    "\n",
    "import matplotlib.pyplot as plt\n",
    "%matplotlib inline\n",
    "import seaborn as sns\n",
    "\n",
    "df = pd.read_csv(\"../data/winequality.csv\")\n",
    "\n",
    "X = df.drop('quality', axis = 1)\n",
    "y = df['quality']\n",
    "\n",
    "X_train, X_test, y_train, y_test = train_test_split(X, y, test_size=0.25, random_state=43)\n",
    "\n",
    "# --------------------------------------------------------------------------\n",
    "\n",
    "current_name = \"first custom run\"\n",
    "experiment_name = \"Experiment-2\"\n",
    "artifact_store = \"/Users/saumyagoyal/JupyterNotebook/MLCon/MLCon_24S/MLCon/1_MLFlow/artifact_store\"\n",
    "\n",
    "\n",
    "# mlflow.create_experiment(experiment_name, artifact_location=artifact_store)\n",
    "mlflow.set_experiment(experiment_name)\n",
    "\n",
    "\n",
    "with mlflow.start_run(run_name=current_name):\n",
    "    \n",
    "    alpha = 0.5\n",
    "    l1 = 0.01\n",
    "\n",
    "    lr = ElasticNet(alpha = alpha, l1_ratio = l1)\n",
    "\n",
    "    lr.fit(X_train, y_train)\n",
    "    y_pred = lr.predict(X_test)\n",
    "\n",
    "    def eval_metrics(ground_truth, pred):\n",
    "        rmse = np.sqrt(metrics.mean_squared_error(ground_truth, pred))\n",
    "        mae = metrics.mean_absolute_error(ground_truth, pred)\n",
    "        r2 = metrics.r2_score(ground_truth, pred)\n",
    "\n",
    "        return rmse, mae, r2\n",
    "\n",
    "    (rmse, mae, r2) = eval_metrics(y_test, y_pred)\n",
    "\n",
    "    ## log parameter and metrics\n",
    "    \n",
    "    mlflow.log_param(\"alpha\", alpha)\n",
    "    mlflow.log_param(\"l1\", l1)\n",
    "    \n",
    "    mlflow.log_metric(\"rmse\", rmse)\n",
    "    mlflow.log_metric(\"mae\", mae)\n",
    "    mlflow.log_metric(\"r2\", r2)\n",
    "    \n",
    "    mlflow.sklearn.log_model(lr, \"Linear regression model\")\n"
   ]
  },
  {
   "cell_type": "code",
   "execution_count": 51,
   "id": "f6da2d07",
   "metadata": {},
   "outputs": [],
   "source": [
    "## log tags"
   ]
  },
  {
   "cell_type": "code",
   "execution_count": 52,
   "id": "f0a93fbc",
   "metadata": {},
   "outputs": [],
   "source": [
    "import numpy as np\n",
    "import pandas as pd\n",
    "\n",
    "from sklearn.linear_model import ElasticNet\n",
    "from sklearn.model_selection import train_test_split\n",
    "from sklearn import metrics\n",
    "\n",
    "import matplotlib.pyplot as plt\n",
    "%matplotlib inline\n",
    "import seaborn as sns\n",
    "\n",
    "df = pd.read_csv(\"../data/winequality.csv\")\n",
    "\n",
    "X = df.drop('quality', axis = 1)\n",
    "y = df['quality']\n",
    "\n",
    "X_train, X_test, y_train, y_test = train_test_split(X, y, test_size=0.25, random_state=43)\n",
    "\n",
    "# --------------------------------------------------------------------------\n",
    "\n",
    "current_name = \"setting tags\"\n",
    "experiment_name = \"Experiment-2\"\n",
    "artifact_store = \"/Users/saumyagoyal/JupyterNotebook/MLCon/MLCon_24S/MLCon/1_MLFlow/artifact_store\"\n",
    "custom_tags = {\n",
    "    \"created_by\": \"Developer1\",\n",
    "    \"Experiment\":\"Trying regression model\",\n",
    "    \"environment\": \"development\"\n",
    "}\n",
    "\n",
    "# mlflow.create_experiment(experiment_name, artifact_location=artifact_store)\n",
    "mlflow.set_experiment(experiment_name)\n",
    "\n",
    "\n",
    "with mlflow.start_run(run_name=current_name):\n",
    "    \n",
    "    alpha = 0.5\n",
    "    l1 = 0.01\n",
    "\n",
    "    lr = ElasticNet(alpha = alpha, l1_ratio = l1)\n",
    "\n",
    "    lr.fit(X_train, y_train)\n",
    "    y_pred = lr.predict(X_test)\n",
    "\n",
    "    def eval_metrics(ground_truth, pred):\n",
    "        rmse = np.sqrt(metrics.mean_squared_error(ground_truth, pred))\n",
    "        mae = metrics.mean_absolute_error(ground_truth, pred)\n",
    "        r2 = metrics.r2_score(ground_truth, pred)\n",
    "\n",
    "        return rmse, mae, r2\n",
    "\n",
    "    (rmse, mae, r2) = eval_metrics(y_test, y_pred)\n",
    "\n",
    "    ## log parameter and metrics\n",
    "    \n",
    "    mlflow.log_param(\"alpha\", alpha)\n",
    "    mlflow.log_param(\"l1\", l1)\n",
    "    \n",
    "    mlflow.log_metric(\"rmse\", rmse)\n",
    "    mlflow.log_metric(\"mae\", mae)\n",
    "    mlflow.log_metric(\"r2\", r2)\n",
    "    \n",
    "    mlflow.sklearn.log_model(lr, \"Linear regression model\")\n",
    "    \n",
    "    mlflow.set_tags(custom_tags)\n"
   ]
  },
  {
   "cell_type": "code",
   "execution_count": 53,
   "id": "d234f078",
   "metadata": {},
   "outputs": [],
   "source": [
    "## autologging"
   ]
  },
  {
   "cell_type": "code",
   "execution_count": 55,
   "id": "eca10b2a",
   "metadata": {},
   "outputs": [
    {
     "name": "stderr",
     "output_type": "stream",
     "text": [
      "2024/06/28 11:38:45 INFO mlflow.tracking.fluent: Autologging successfully enabled for sklearn.\n"
     ]
    }
   ],
   "source": [
    "import numpy as np\n",
    "import pandas as pd\n",
    "\n",
    "from sklearn.linear_model import ElasticNet\n",
    "from sklearn.model_selection import train_test_split\n",
    "from sklearn import metrics\n",
    "\n",
    "import matplotlib.pyplot as plt\n",
    "%matplotlib inline\n",
    "import seaborn as sns\n",
    "\n",
    "df = pd.read_csv(\"../data/winequality.csv\")\n",
    "\n",
    "X = df.drop('quality', axis = 1)\n",
    "y = df['quality']\n",
    "\n",
    "X_train, X_test, y_train, y_test = train_test_split(X, y, test_size=0.25, random_state=43)\n",
    "\n",
    "# --------------------------------------------------------------------------\n",
    "\n",
    "mlflow.autolog()\n",
    "\n",
    "current_name = \"logging model2\"\n",
    "experiment_name = \"Experiment-3\"\n",
    "artifact_store = \"/Users/saumyagoyal/JupyterNotebook/MLCon/MLCon_24S/MLCon/1_MLFlow/artifact_store\"\n",
    "custom_tags = {\n",
    "    \"created_by\": \"Developer1\",\n",
    "    \"Experiment\":\"Trying regression model\",\n",
    "    \"environment\": \"development\"\n",
    "}\n",
    "\n",
    "# mlflow.create_experiment(experiment_name, artifact_location=artifact_store)\n",
    "mlflow.set_experiment(experiment_name)\n",
    "\n",
    "\n",
    "with mlflow.start_run(run_name=current_name):\n",
    "    \n",
    "    alpha = 0.5\n",
    "    l1 = 0.01\n",
    "\n",
    "    lr = ElasticNet(alpha = alpha, l1_ratio = l1)\n",
    "\n",
    "    lr.fit(X_train, y_train)\n",
    "    y_pred = lr.predict(X_test)\n",
    "\n",
    "    def eval_metrics(ground_truth, pred):\n",
    "        rmse = np.sqrt(metrics.mean_squared_error(ground_truth, pred))\n",
    "        mae = metrics.mean_absolute_error(ground_truth, pred)\n",
    "        r2 = metrics.r2_score(ground_truth, pred)\n",
    "\n",
    "        return rmse, mae, r2\n",
    "\n",
    "    (rmse, mae, r2) = eval_metrics(y_test, y_pred)\n",
    "\n",
    "    ## log parameter and metrics\n",
    "    \n",
    "#     mlflow.log_param(\"alpha\", alpha)\n",
    "#     mlflow.log_param(\"l1\", l1)\n",
    "    \n",
    "#     mlflow.log_metric(\"rmse\", rmse)\n",
    "#     mlflow.log_metric(\"mae\", mae)\n",
    "#     mlflow.log_metric(\"r2\", r2)\n",
    "    \n",
    "#     mlflow.sklearn.log_model(lr, \"Linear regression model\")\n",
    "    \n",
    "    mlflow.set_tags(custom_tags)\n"
   ]
  },
  {
   "cell_type": "code",
   "execution_count": 56,
   "id": "13a4f08c",
   "metadata": {},
   "outputs": [],
   "source": [
    "############ serving models"
   ]
  },
  {
   "cell_type": "code",
   "execution_count": 59,
   "id": "ca74a0f8",
   "metadata": {},
   "outputs": [
    {
     "name": "stderr",
     "output_type": "stream",
     "text": [
      "2024/06/28 11:48:51 INFO mlflow.tracking.fluent: Autologging successfully enabled for sklearn.\n",
      "Successfully registered model 'sklearn-model-1'.\n",
      "Created version '1' of model 'sklearn-model-1'.\n"
     ]
    }
   ],
   "source": [
    "import numpy as np\n",
    "import pandas as pd\n",
    "\n",
    "from sklearn.linear_model import ElasticNet\n",
    "from sklearn.model_selection import train_test_split\n",
    "from sklearn import metrics\n",
    "\n",
    "import matplotlib.pyplot as plt\n",
    "%matplotlib inline\n",
    "import seaborn as sns\n",
    "\n",
    "import mlflow\n",
    "from mlflow.models import infer_signature\n",
    "\n",
    "\n",
    "df = pd.read_csv(\"../data/winequality.csv\")\n",
    "\n",
    "X = df.drop('quality', axis = 1)\n",
    "y = df['quality']\n",
    "\n",
    "X_train, X_test, y_train, y_test = train_test_split(X, y, test_size=0.25, random_state=43)\n",
    "\n",
    "# --------------------------------------------------------------------------\n",
    "\n",
    "mlflow.autolog()\n",
    "\n",
    "current_name = \"logging model3\"\n",
    "experiment_name = \"Experiment-3\"\n",
    "artifact_store = \"/Users/saumyagoyal/JupyterNotebook/MLCon/MLCon_24S/MLCon/1_MLFlow/artifact_store\"\n",
    "custom_tags = {\n",
    "    \"created_by\": \"Developer1\",\n",
    "    \"Experiment\":\"Trying regression model\",\n",
    "    \"environment\": \"development\"\n",
    "}\n",
    "\n",
    "# mlflow.create_experiment(experiment_name, artifact_location=artifact_store)\n",
    "mlflow.set_experiment(experiment_name)\n",
    "\n",
    "\n",
    "with mlflow.start_run(run_name=current_name):\n",
    "    \n",
    "    alpha = 0.5\n",
    "    l1 = 0.01\n",
    "\n",
    "    lr = ElasticNet(alpha = alpha, l1_ratio = l1)\n",
    "\n",
    "    lr.fit(X_train, y_train)\n",
    "    y_pred = lr.predict(X_test)\n",
    "\n",
    "    def eval_metrics(ground_truth, pred):\n",
    "        rmse = np.sqrt(metrics.mean_squared_error(ground_truth, pred))\n",
    "        mae = metrics.mean_absolute_error(ground_truth, pred)\n",
    "        r2 = metrics.r2_score(ground_truth, pred)\n",
    "\n",
    "        return rmse, mae, r2\n",
    "\n",
    "    (rmse, mae, r2) = eval_metrics(y_test, y_pred)\n",
    "\n",
    "    ## log parameter and metrics\n",
    "    \n",
    "#     mlflow.log_param(\"alpha\", alpha)\n",
    "#     mlflow.log_param(\"l1\", l1)\n",
    "    \n",
    "#     mlflow.log_metric(\"rmse\", rmse)\n",
    "#     mlflow.log_metric(\"mae\", mae)\n",
    "#     mlflow.log_metric(\"r2\", r2)\n",
    "    \n",
    "#     mlflow.sklearn.log_model(lr, \"Linear regression model\")\n",
    "\n",
    "    signature = infer_signature(X_test, y_pred)\n",
    "    \n",
    "    mlflow.sklearn.log_model(\n",
    "        sk_model = lr,\n",
    "        artifact_path = \"sklearn-model\",\n",
    "        signature = signature,\n",
    "        registered_model_name = \"sklearn-model-1\"\n",
    "    )\n",
    "    \n",
    "    mlflow.set_tags(custom_tags)\n"
   ]
  },
  {
   "cell_type": "code",
   "execution_count": null,
   "id": "a6559883",
   "metadata": {},
   "outputs": [],
   "source": [
    "curl -d '{\"dataframe_split\": {\"columns\": [\"fixed acidity\",\"volatile acidity\",\"citric acid\",\"residual sugar\",\"chlorides\",\"free sulfur dioxide\",\"total sulfur dioxide\",\"density\",\"pH\",\"sulphates\",\"alcohol\"],\n",
    "\"data\": [[7,0.27,0.36,20.7,0.045,45,170,1.001,3,0.45,8.8]]}}' \\-H 'Content-Type: application/json' -X POST localhost:5002/invocations"
   ]
  }
 ],
 "metadata": {
  "kernelspec": {
   "display_name": "Python 3 (ipykernel)",
   "language": "python",
   "name": "python3"
  },
  "language_info": {
   "codemirror_mode": {
    "name": "ipython",
    "version": 3
   },
   "file_extension": ".py",
   "mimetype": "text/x-python",
   "name": "python",
   "nbconvert_exporter": "python",
   "pygments_lexer": "ipython3",
   "version": "3.9.6"
  }
 },
 "nbformat": 4,
 "nbformat_minor": 5
}
