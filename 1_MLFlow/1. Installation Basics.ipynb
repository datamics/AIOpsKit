{
 "cells": [
  {
   "cell_type": "code",
   "execution_count": 3,
   "id": "0d125b64",
   "metadata": {},
   "outputs": [
    {
     "data": {
      "text/plain": [
       "'/Users/saumyagoyal/JupyterNotebook/MLCon/MLCon_24S/MLCon/1_MLFlow'"
      ]
     },
     "execution_count": 3,
     "metadata": {},
     "output_type": "execute_result"
    }
   ],
   "source": [
    "pwd"
   ]
  },
  {
   "cell_type": "code",
   "execution_count": 1,
   "id": "856c2f30",
   "metadata": {},
   "outputs": [],
   "source": [
    "import mlflow"
   ]
  },
  {
   "cell_type": "code",
   "execution_count": 2,
   "id": "02b3bce8",
   "metadata": {},
   "outputs": [],
   "source": [
    "from random import random, randint"
   ]
  },
  {
   "cell_type": "code",
   "execution_count": null,
   "id": "b32d5903",
   "metadata": {},
   "outputs": [],
   "source": [
    "# !pip3 install mlflow"
   ]
  },
  {
   "cell_type": "code",
   "execution_count": 4,
   "id": "4d909241",
   "metadata": {},
   "outputs": [],
   "source": [
    "with mlflow.start_run():\n",
    "    \n",
    "    mlflow.log_param(\"Loss\", randint(0,100))\n",
    "    mlflow.log_metric(\"Accuracy\", random())\n",
    "    mlflow.log_metric(\"F1 score\", random())"
   ]
  },
  {
   "cell_type": "code",
   "execution_count": null,
   "id": "25e93d1b",
   "metadata": {},
   "outputs": [],
   "source": []
  }
 ],
 "metadata": {
  "kernelspec": {
   "display_name": "Python 3 (ipykernel)",
   "language": "python",
   "name": "python3"
  },
  "language_info": {
   "codemirror_mode": {
    "name": "ipython",
    "version": 3
   },
   "file_extension": ".py",
   "mimetype": "text/x-python",
   "name": "python",
   "nbconvert_exporter": "python",
   "pygments_lexer": "ipython3",
   "version": "3.9.6"
  }
 },
 "nbformat": 4,
 "nbformat_minor": 5
}
