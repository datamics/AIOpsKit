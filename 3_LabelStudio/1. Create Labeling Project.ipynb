{
 "cells": [
  {
   "cell_type": "code",
   "execution_count": null,
   "id": "0805d9f0",
   "metadata": {},
   "outputs": [],
   "source": [
    "# run labelstudio server\n",
    "# --- label-studio start"
   ]
  },
  {
   "cell_type": "code",
   "execution_count": 1,
   "id": "725b3e38",
   "metadata": {},
   "outputs": [
    {
     "data": {
      "text/plain": [
       "environ{'TERM_SESSION_ID': 'w0t0p0:A0B6C18F-6CBD-4F67-9C55-DF1E2723F4E9',\n",
       "        'SSH_AUTH_SOCK': '/private/tmp/com.apple.launchd.i2TUtL9O5X/Listeners',\n",
       "        'LC_TERMINAL_VERSION': '3.5.1',\n",
       "        'COLORFGBG': '7;0',\n",
       "        'ITERM_PROFILE': 'Default',\n",
       "        'XPC_FLAGS': '0x0',\n",
       "        'LANG': 'en_US.UTF-8',\n",
       "        'PWD': '/Users/saumyagoyal',\n",
       "        'SHELL': '/bin/zsh',\n",
       "        '__CFBundleIdentifier': 'com.googlecode.iterm2',\n",
       "        'TERM_FEATURES': 'T3LrMSc7UUw9Ts3BFGsSyHNoSxF',\n",
       "        'TERM_PROGRAM_VERSION': '3.5.1',\n",
       "        'TERM_PROGRAM': 'iTerm.app',\n",
       "        'PATH': '/Library/Frameworks/Python.framework/Versions/3.11/bin:/usr/local/bin:/usr/bin:/bin:/usr/sbin:/sbin:/Users/saumyagoyal/Library/Python/3.9/bin:/var/run/com.apple.security.cryptexd/codex.system/bootstrap/usr/local/bin:/var/run/com.apple.security.cryptexd/codex.system/bootstrap/usr/bin:/var/run/com.apple.security.cryptexd/codex.system/bootstrap/usr/appleinternal/bin:/Library/TeX/texbin:/Applications/iTerm.app/Contents/Resources/utilities',\n",
       "        'LC_TERMINAL': 'iTerm2',\n",
       "        'COLORTERM': 'truecolor',\n",
       "        'COMMAND_MODE': 'unix2003',\n",
       "        'TERM': 'xterm-color',\n",
       "        'TERMINFO_DIRS': '/Applications/iTerm.app/Contents/Resources/terminfo:/usr/share/terminfo',\n",
       "        'HOME': '/Users/saumyagoyal',\n",
       "        'TMPDIR': '/var/folders/cm/7f6kgxhn6qgb2r_wq92h422h0000gn/T/',\n",
       "        'USER': 'saumyagoyal',\n",
       "        'XPC_SERVICE_NAME': '0',\n",
       "        'LOGNAME': 'saumyagoyal',\n",
       "        'ITERM_SESSION_ID': 'w0t0p0:A0B6C18F-6CBD-4F67-9C55-DF1E2723F4E9',\n",
       "        '__CF_USER_TEXT_ENCODING': '0x1F5:0x0:0x0',\n",
       "        'SHLVL': '1',\n",
       "        'OLDPWD': '/Users/saumyagoyal',\n",
       "        'P9K_TTY': 'old',\n",
       "        '_P9K_TTY': '/dev/ttys000',\n",
       "        'ZSH': '/Users/saumyagoyal/.oh-my-zsh',\n",
       "        'PAGER': 'cat',\n",
       "        'LESS': '-R',\n",
       "        'LSCOLORS': 'Gxfxcxdxbxegedabagacad',\n",
       "        'LS_COLORS': 'di=1;36:ln=35:so=32:pi=33:ex=31:bd=34;46:cd=34;43:su=30;41:sg=30;46:tw=30;42:ow=30;43',\n",
       "        'P9K_SSH': '0',\n",
       "        '_': '/Library/Frameworks/Python.framework/Versions/3.11/bin/jupyter',\n",
       "        'JPY_PARENT_PID': '41817',\n",
       "        'CLICOLOR': '1',\n",
       "        'GIT_PAGER': 'cat',\n",
       "        'MPLBACKEND': 'module://matplotlib_inline.backend_inline',\n",
       "        'FIFTYONE_DATABASE_DIR': '/Users/saumyagoyal/JupyterNotebook/MLCon/MLCon_24S/MLCon/2_FiftyOne/fiftyone_root/db',\n",
       "        'FIFTYONE_DEFAULT_DATASET_DIR': '/Users/saumyagoyal/JupyterNotebook/MLCon/MLCon_24S/MLCon/2_FiftyOne/fiftyone_root/default',\n",
       "        'FIFTYONE_DATASET_ZOO_DIR': '/Users/saumyagoyal/JupyterNotebook/MLCon/MLCon_24S/MLCon/2_FiftyOne/fiftyone_root/datasets',\n",
       "        'FIFTYONE_MODEL_ZOO_DIR': '/Users/saumyagoyal/JupyterNotebook/MLCon/MLCon_24S/MLCon/2_FiftyOne/fiftyone_root/models',\n",
       "        'FIFTYONE_DO_NOT_TRACK': 'true',\n",
       "        'FIFTYONE_ANNOTATION_DEFAULT_BACKEND': 'labelstudio',\n",
       "        'FIFTYONE_LABELSTUDIO_URL': 'http://localhost:8080/',\n",
       "        'FIFTYONE_LABELSTUDIO_API_KEY': '0cda7691c56dd7112fa1eb004ba58dfdaa4648c7'}"
      ]
     },
     "execution_count": 1,
     "metadata": {},
     "output_type": "execute_result"
    }
   ],
   "source": [
    "# set environment variables\n",
    "import os\n",
    "\n",
    "\n",
    "ROOT_DIR = f\"/Users/saumyagoyal/JupyterNotebook/MLCon/MLCon_24S/MLCon/2_FiftyOne/fiftyone_root\"\n",
    "os.environ[\"FIFTYONE_DATABASE_DIR\"] = f\"{ROOT_DIR}/db\"\n",
    "os.environ[\"FIFTYONE_DEFAULT_DATASET_DIR\"] = f\"{ROOT_DIR}/default\"\n",
    "os.environ[\"FIFTYONE_DATASET_ZOO_DIR\"] = f\"{ROOT_DIR}/datasets\"\n",
    "os.environ[\"FIFTYONE_MODEL_ZOO_DIR\"] = f\"{ROOT_DIR}/models\"\n",
    "os.environ[\"FIFTYONE_DO_NOT_TRACK\"] = \"true\"\n",
    "\n",
    "# fiftyone - labelstudio integration env variables\n",
    "os.environ[\"FIFTYONE_ANNOTATION_DEFAULT_BACKEND\"] = \"labelstudio\"\n",
    "os.environ[\"FIFTYONE_LABELSTUDIO_URL\"] = \"http://localhost:8080/\" \n",
    "os.environ[\"FIFTYONE_LABELSTUDIO_API_KEY\"] = \"0cda7691c56dd7112fa1eb004ba58dfdaa4648c7\"\n",
    "\n",
    "os.environ"
   ]
  },
  {
   "cell_type": "code",
   "execution_count": 4,
   "id": "bc815d00",
   "metadata": {},
   "outputs": [
    {
     "name": "stdout",
     "output_type": "stream",
     "text": [
      "Dataset already downloaded\n",
      "Loading 'quickstart'\n",
      " 100% |█████████████████| 200/200 [3.6s elapsed, 0s remaining, 51.8 samples/s]      \n",
      "Dataset 'quickstart' created\n",
      "Session launched. Run `session.show()` to open the App in a cell output.\n",
      "Computing embeddings...\n",
      " 100% |█████████████████| 200/200 [35.5s elapsed, 0s remaining, 5.5 samples/s]      \n",
      "Generating visualization...\n",
      "UMAP( verbose=True)\n",
      "Fri Jun 28 15:57:20 2024 Construct fuzzy simplicial set\n",
      "Fri Jun 28 15:57:20 2024 Finding Nearest Neighbors\n",
      "Fri Jun 28 15:57:22 2024 Finished Nearest Neighbor Search\n",
      "Fri Jun 28 15:57:24 2024 Construct embedding\n"
     ]
    },
    {
     "data": {
      "application/vnd.jupyter.widget-view+json": {
       "model_id": "3225481ccf5f425d8c7e24bab99a9fc5",
       "version_major": 2,
       "version_minor": 0
      },
      "text/plain": [
       "Epochs completed:   0%|            0/500 [00:00]"
      ]
     },
     "metadata": {},
     "output_type": "display_data"
    },
    {
     "name": "stdout",
     "output_type": "stream",
     "text": [
      "\tcompleted  0  /  500 epochs\n",
      "\tcompleted  50  /  500 epochs\n",
      "\tcompleted  100  /  500 epochs\n",
      "\tcompleted  150  /  500 epochs\n",
      "\tcompleted  200  /  500 epochs\n",
      "\tcompleted  250  /  500 epochs\n",
      "\tcompleted  300  /  500 epochs\n",
      "\tcompleted  350  /  500 epochs\n",
      "\tcompleted  400  /  500 epochs\n",
      "\tcompleted  450  /  500 epochs\n",
      "Fri Jun 28 15:57:26 2024 Finished embedding\n",
      "Computing embeddings...\n",
      " 100% |█████████████████| 200/200 [30.3s elapsed, 0s remaining, 7.0 samples/s]      \n"
     ]
    },
    {
     "data": {
      "text/plain": [
       "<fiftyone.brain.internal.core.sklearn.SklearnSimilarityIndex at 0x1627ef790>"
      ]
     },
     "execution_count": 4,
     "metadata": {},
     "output_type": "execute_result"
    }
   ],
   "source": [
    "import fiftyone as fo\n",
    "import fiftyone.zoo as foz\n",
    "import fiftyone.brain as fob\n",
    "\n",
    "dataset = foz.load_zoo_dataset(\"quickstart\")\n",
    "\n",
    "session = fo.launch_app(port = 5151, auto=False)\n",
    "\n",
    "fob.compute_visualization(dataset, brain_key=\"img_viz\")\n",
    "fob.compute_similarity(dataset, model = \"clip-vit-base32-torch\", brain_key=\"img_sim\")"
   ]
  },
  {
   "cell_type": "code",
   "execution_count": 3,
   "id": "a6a6f53c",
   "metadata": {},
   "outputs": [
    {
     "data": {
      "text/plain": [
       "{\n",
       "    \"batcher_static_size\": 100,\n",
       "    \"batcher_target_latency\": 0.2,\n",
       "    \"batcher_target_size_bytes\": 1048576,\n",
       "    \"database_admin\": true,\n",
       "    \"database_dir\": \"/Users/saumyagoyal/JupyterNotebook/MLCon/MLCon_24S/MLCon/2_FiftyOne/fiftyone_root/db\",\n",
       "    \"database_name\": \"fiftyone\",\n",
       "    \"database_uri\": null,\n",
       "    \"database_validation\": true,\n",
       "    \"dataset_zoo_dir\": \"/Users/saumyagoyal/JupyterNotebook/MLCon/MLCon_24S/MLCon/2_FiftyOne/fiftyone_root/datasets\",\n",
       "    \"dataset_zoo_manifest_paths\": null,\n",
       "    \"default_app_address\": \"localhost\",\n",
       "    \"default_app_port\": 5151,\n",
       "    \"default_batch_size\": null,\n",
       "    \"default_batcher\": \"latency\",\n",
       "    \"default_dataset_dir\": \"/Users/saumyagoyal/JupyterNotebook/MLCon/MLCon_24S/MLCon/2_FiftyOne/fiftyone_root/default\",\n",
       "    \"default_image_ext\": \".jpg\",\n",
       "    \"default_ml_backend\": \"torch\",\n",
       "    \"default_sequence_idx\": \"%06d\",\n",
       "    \"default_video_ext\": \".mp4\",\n",
       "    \"desktop_app\": false,\n",
       "    \"do_not_track\": true,\n",
       "    \"logging_level\": \"INFO\",\n",
       "    \"max_process_pool_workers\": null,\n",
       "    \"max_thread_pool_workers\": null,\n",
       "    \"model_zoo_dir\": \"/Users/saumyagoyal/JupyterNotebook/MLCon/MLCon_24S/MLCon/2_FiftyOne/fiftyone_root/models\",\n",
       "    \"model_zoo_manifest_paths\": null,\n",
       "    \"module_path\": null,\n",
       "    \"operator_timeout\": 600,\n",
       "    \"plugins_cache_enabled\": false,\n",
       "    \"plugins_dir\": \"/Users/saumyagoyal/JupyterNotebook/MLCon/MLCon_24S/MLCon/2_FiftyOne/fiftyone_root/default/__plugins__\",\n",
       "    \"requirement_error_level\": 0,\n",
       "    \"show_progress_bars\": true,\n",
       "    \"timezone\": null\n",
       "}"
      ]
     },
     "execution_count": 3,
     "metadata": {},
     "output_type": "execute_result"
    }
   ],
   "source": [
    "fo.config"
   ]
  },
  {
   "cell_type": "code",
   "execution_count": null,
   "id": "7dce572e",
   "metadata": {},
   "outputs": [],
   "source": [
    "# session fo.launch_app(port = 5151, auto = false)"
   ]
  },
  {
   "cell_type": "code",
   "execution_count": null,
   "id": "e65f8efb",
   "metadata": {},
   "outputs": [],
   "source": [
    "# fob.compute_visualization(dataset, brain_key=\"img_viz\")\n",
    "# fob.compute_similarity(dataset, model = \"clip-vit-base32-torch\", brain_key=\"img_sim\")"
   ]
  },
  {
   "cell_type": "code",
   "execution_count": 6,
   "id": "c74f6df6",
   "metadata": {},
   "outputs": [
    {
     "name": "stdout",
     "output_type": "stream",
     "text": [
      "Dataset already downloaded\n",
      "Loading 'quickstart'\n",
      " 100% |███████████████████| 20/20 [217.7ms elapsed, 0s remaining, 92.8 samples/s]     \n",
      "Dataset 'quickstart-20' created\n",
      "Session launched. Run `session.show()` to open the App in a cell output.\n"
     ]
    }
   ],
   "source": [
    "dataset_small = foz.load_zoo_dataset(\"quickstart\", max_samples = 20)\n",
    "session = fo.launch_app(dataset_small, port = 5151, auto=False)"
   ]
  },
  {
   "cell_type": "code",
   "execution_count": null,
   "id": "ec9ffb4f",
   "metadata": {},
   "outputs": [],
   "source": []
  },
  {
   "cell_type": "code",
   "execution_count": 10,
   "id": "4c95aca0",
   "metadata": {},
   "outputs": [
    {
     "data": {
      "text/plain": [
       "Dataset:     quickstart\n",
       "View name:   food_items\n",
       "Media type:  image\n",
       "Num samples: 25\n",
       "Sample fields:\n",
       "    id:           fiftyone.core.fields.ObjectIdField\n",
       "    filepath:     fiftyone.core.fields.StringField\n",
       "    tags:         fiftyone.core.fields.ListField(fiftyone.core.fields.StringField)\n",
       "    metadata:     fiftyone.core.fields.EmbeddedDocumentField(fiftyone.core.metadata.ImageMetadata)\n",
       "    ground_truth: fiftyone.core.fields.EmbeddedDocumentField(fiftyone.core.labels.Detections)\n",
       "    uniqueness:   fiftyone.core.fields.FloatField\n",
       "    predictions:  fiftyone.core.fields.EmbeddedDocumentField(fiftyone.core.labels.Detections)\n",
       "View stages:\n",
       "    1. SortBySimilarity(query='food', k=25, reverse=False, dist_field=None, brain_key='img_sim')"
      ]
     },
     "execution_count": 10,
     "metadata": {},
     "output_type": "execute_result"
    }
   ],
   "source": [
    "# send data for labelling\n",
    "avl_datasets = fo.list_datasets()\n",
    "dataset = fo.load_dataset(avl_datasets[0])\n",
    "                          \n",
    "view = dataset.load_saved_view(\"food_items\")\n",
    "view"
   ]
  },
  {
   "cell_type": "code",
   "execution_count": null,
   "id": "e01182bc",
   "metadata": {},
   "outputs": [],
   "source": [
    "## send data for labelling to LS"
   ]
  },
  {
   "cell_type": "code",
   "execution_count": 13,
   "id": "2600d34e",
   "metadata": {},
   "outputs": [],
   "source": [
    "anno_key = \"labelstduio_annotate_food\"\n",
    "\n",
    "label_schema = {\n",
    "    \"ls_ground_truth\" :\n",
    "    {\n",
    "        \"type\": \"detections\",\n",
    "        \"classes\": [\n",
    "            \"pizza\",\n",
    "            \"banana\",\n",
    "            \"juice\",\n",
    "            \"carrots\",\n",
    "            \"unknown\"\n",
    "        ]\n",
    "    }\n",
    "}\n"
   ]
  },
  {
   "cell_type": "code",
   "execution_count": 14,
   "id": "c69d4d5b",
   "metadata": {},
   "outputs": [
    {
     "name": "stdout",
     "output_type": "stream",
     "text": [
      "The backend 'labelstudio' does not support attributes. Provided attributes will be ignored.\n",
      "Uploading media to Label Studio...\n",
      "Computing metadata...\n",
      " 100% |███████████████████| 25/25 [10.4ms elapsed, 0s remaining, 2.4K samples/s] \n",
      "Upload complete\n",
      "{\n",
      "    \"key\": \"labelstduio_annotate_food\",\n",
      "    \"version\": \"0.24.1\",\n",
      "    \"timestamp\": \"2024-06-28T14:15:24.580959\",\n",
      "    \"config\": {\n",
      "        \"cls\": \"fiftyone.utils.labelstudio.LabelStudioBackendConfig\",\n",
      "        \"type\": \"annotation\",\n",
      "        \"method\": \"labelstudio\",\n",
      "        \"name\": \"labelstudio\",\n",
      "        \"label_schema\": {\n",
      "            \"ls_ground_truth\": {\n",
      "                \"type\": \"detections\",\n",
      "                \"classes\": [\n",
      "                    \"pizza\",\n",
      "                    \"banana\",\n",
      "                    \"juice\",\n",
      "                    \"carrots\",\n",
      "                    \"unknown\"\n",
      "                ],\n",
      "                \"attributes\": {},\n",
      "                \"existing_field\": false\n",
      "            }\n",
      "        },\n",
      "        \"media_field\": \"filepath\",\n",
      "        \"url\": \"http://localhost:8080/\",\n",
      "        \"project_name\": \"Food_annotation_project\"\n",
      "    }\n",
      "}\n"
     ]
    }
   ],
   "source": [
    "view.annotate(\n",
    "    anno_key,\n",
    "    label_schema=label_schema,\n",
    "    project_name = \"Food_annotation_project\"\n",
    ")\n",
    "\n",
    "print(dataset.get_annotation_info(anno_key))"
   ]
  },
  {
   "cell_type": "code",
   "execution_count": 15,
   "id": "060e22f4",
   "metadata": {},
   "outputs": [
    {
     "data": {
      "text/plain": [
       "['labelstduio_annotate_food']"
      ]
     },
     "execution_count": 15,
     "metadata": {},
     "output_type": "execute_result"
    }
   ],
   "source": [
    "ann_run = dataset.list_annotation_runs()\n",
    "ann_run"
   ]
  },
  {
   "cell_type": "code",
   "execution_count": 16,
   "id": "bcd54b09",
   "metadata": {},
   "outputs": [
    {
     "name": "stdout",
     "output_type": "stream",
     "text": [
      "Downloading labels from Label Studio...\n",
      "Download complete\n",
      "Loading labels for field 'ls_ground_truth'...\n",
      " 100% |███████████████████| 10/10 [13.5ms elapsed, 0s remaining, 741.2 samples/s] \n"
     ]
    }
   ],
   "source": [
    "# get labelled data to FO\n",
    "dataset.load_annotations(ann_run[0])\n",
    "session.refresh()"
   ]
  },
  {
   "cell_type": "code",
   "execution_count": 18,
   "id": "d17598d7",
   "metadata": {},
   "outputs": [
    {
     "name": "stdout",
     "output_type": "stream",
     "text": [
      "Evaluating detections...\n",
      " 100% |█████████████████| 200/200 [21.5s elapsed, 0s remaining, 6.6 samples/s]       \n"
     ]
    }
   ],
   "source": [
    "# Send for training/ Retrain?\n",
    "\n",
    "\n",
    "results = dataset.evaluate_detections(\n",
    "        \"predictions\",\n",
    "        gt_field = \"ground_truth\",\n",
    "        eval_key = \"predictions_gt\"\n",
    ")\n",
    "\n",
    "session.refresh()"
   ]
  },
  {
   "cell_type": "code",
   "execution_count": null,
   "id": "6fe17601",
   "metadata": {},
   "outputs": [],
   "source": []
  }
 ],
 "metadata": {
  "kernelspec": {
   "display_name": "Python 3 (ipykernel)",
   "language": "python",
   "name": "python3"
  },
  "language_info": {
   "codemirror_mode": {
    "name": "ipython",
    "version": 3
   },
   "file_extension": ".py",
   "mimetype": "text/x-python",
   "name": "python",
   "nbconvert_exporter": "python",
   "pygments_lexer": "ipython3",
   "version": "3.9.6"
  }
 },
 "nbformat": 4,
 "nbformat_minor": 5
}
